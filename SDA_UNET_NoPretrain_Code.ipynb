{
 "cells": [
  {
   "cell_type": "code",
   "execution_count": 0,
   "metadata": {
    "colab": {},
    "colab_type": "code",
    "id": "QnWucCr3xI1L"
   },
   "outputs": [],
   "source": [
    "import numpy as np\n",
    "import matplotlib.pyplot as plt\n",
    "import pandas as pd\n",
    "import os\n",
    "from tqdm import tqdm_notebook\n",
    "import cv2\n",
    "\n",
    "import keras\n",
    "from keras.layers.convolutional import Conv2DTranspose\n",
    "from keras.layers.merge import concatenate\n",
    "from keras.layers import UpSampling2D, Conv2D, Activation, Input, Dropout, MaxPooling2D\n",
    "from keras import Model\n",
    "from keras import backend as K\n",
    "from keras.layers.core import Lambda\n",
    "from collections import defaultdict\n",
    "from sklearn.model_selection import train_test_split\n",
    "import pandas as pd\n",
    "import random\n",
    "\n",
    "import tensorflow as tf\n"
   ]
  },
  {
   "cell_type": "code",
   "execution_count": 0,
   "metadata": {
    "colab": {},
    "colab_type": "code",
    "id": "dYBcuA049qIK"
   },
   "outputs": [],
   "source": [
    "from tensorflow.keras.losses import binary_crossentropy\n",
    "from sklearn.model_selection import train_test_split"
   ]
  },
  {
   "cell_type": "markdown",
   "metadata": {
    "colab_type": "text",
    "id": "KAYxLwD7jrXS"
   },
   "source": [
    "# Get Data"
   ]
  },
  {
   "cell_type": "code",
   "execution_count": 0,
   "metadata": {
    "colab": {
     "base_uri": "https://localhost:8080/",
     "height": 34
    },
    "colab_type": "code",
    "id": "EIdmIg3axOXi",
    "outputId": "b555b7ba-c1f4-4206-c491-0c49e7dacd01"
   },
   "outputs": [
    {
     "name": "stdout",
     "output_type": "stream",
     "text": [
      "Mounted at /content/drive/\n"
     ]
    }
   ],
   "source": [
    "# Load the Drive helper and mount\n",
    "from google.colab import drive\n",
    "\n",
    "# This will prompt for authorization.\n",
    "drive.mount('/content/drive/')"
   ]
  },
  {
   "cell_type": "code",
   "execution_count": 0,
   "metadata": {
    "colab": {},
    "colab_type": "code",
    "id": "2-ps2d69xOdE"
   },
   "outputs": [],
   "source": [
    "path = '/content/drive/My Drive/project/data_main/'"
   ]
  },
  {
   "cell_type": "code",
   "execution_count": 0,
   "metadata": {
    "colab": {},
    "colab_type": "code",
    "id": "cdCDkv7If6Oj"
   },
   "outputs": [],
   "source": [
    "train_img = path + \"train_images\""
   ]
  },
  {
   "cell_type": "code",
   "execution_count": 0,
   "metadata": {
    "colab": {
     "base_uri": "https://localhost:8080/",
     "height": 34
    },
    "colab_type": "code",
    "id": "a7ZTUqjxxMn5",
    "outputId": "a0f5a20e-4491-4246-f97c-9d2b037cb6d5"
   },
   "outputs": [
    {
     "name": "stdout",
     "output_type": "stream",
     "text": [
      "Length of train data 50272\n"
     ]
    }
   ],
   "source": [
    "train_data  = pd.read_csv(path + '/train.csv')\n",
    "print(\"Length of train data\", len(train_data))"
   ]
  },
  {
   "cell_type": "code",
   "execution_count": 0,
   "metadata": {
    "colab": {},
    "colab_type": "code",
    "id": "E5rWaNN2eJTc"
   },
   "outputs": [],
   "source": [
    "# Pivot the data\n",
    "df = pd.read_csv(path + '/train.csv')\n",
    "df['ImageId'], df['ClassId'] = zip(*df['ImageId_ClassId'].str.split('_'))\n",
    "df['ClassId'] = df['ClassId'].astype(int)\n",
    "df = df.pivot(index='ImageId',columns='ClassId',values='EncodedPixels')\n",
    "df['defects'] = df.count(axis=1)\n",
    "# Divide the data \n",
    "train_df, val_df = train_test_split(df, test_size=0.2, stratify=df[\"defects\"], random_state=69) "
   ]
  },
  {
   "cell_type": "code",
   "execution_count": 0,
   "metadata": {
    "colab": {},
    "colab_type": "code",
    "id": "lA_bPmgGlJOB"
   },
   "outputs": [],
   "source": [
    "train_df = train_df.reset_index()\n",
    "train_df = train_df.reset_index()\n",
    "\n",
    "val_df = val_df.reset_index()\n",
    "val_df = val_df.reset_index()\n",
    " "
   ]
  },
  {
   "cell_type": "code",
   "execution_count": 0,
   "metadata": {
    "colab": {
     "base_uri": "https://localhost:8080/",
     "height": 51
    },
    "colab_type": "code",
    "id": "GILMpUtXxjro",
    "outputId": "6c5ead0d-953f-4252-c969-333dd344116b"
   },
   "outputs": [
    {
     "name": "stdout",
     "output_type": "stream",
     "text": [
      "Lenght of training data  10054\n",
      "Lenght of validation data  2514\n"
     ]
    }
   ],
   "source": [
    "# For class imbalance, we need to use the data witout nulls.\n",
    "df_no_null = train_data[train_data['EncodedPixels'].notnull()].reset_index(drop=True)\n",
    " \n",
    "print(\"Lenght of training data \" , len(train_df))\n",
    "print(\"Lenght of validation data \" , len(val_df))"
   ]
  },
  {
   "cell_type": "markdown",
   "metadata": {
    "colab_type": "text",
    "id": "nJSq6RbkkiOZ"
   },
   "source": [
    "\n",
    "# Pre-process data"
   ]
  },
  {
   "cell_type": "code",
   "execution_count": 0,
   "metadata": {
    "colab": {},
    "colab_type": "code",
    "id": "Dkc70VFPeBYg"
   },
   "outputs": [],
   "source": [
    "def mask2rle(img):\n",
    "    '''\n",
    "    For an ouput numpy array\n",
    "    1  == Mask, \n",
    "    0  == background\n",
    "    Returns run length as string formated\n",
    "    '''\n",
    "    pixels= img.T.flatten()\n",
    "    pixels = np.concatenate([[0], pixels, [0]])\n",
    "    runs = np.where(pixels[1:] != pixels[:-1])[0] + 1\n",
    "    runs[1::2] -= runs[::2]\n",
    "    return ' '.join(str(x) for x in runs)"
   ]
  },
  {
   "cell_type": "code",
   "execution_count": 0,
   "metadata": {
    "colab": {},
    "colab_type": "code",
    "id": "GSfFVYAGeDBa"
   },
   "outputs": [],
   "source": [
    "\n",
    "def make_mask(row_id, df):\n",
    "    '''\n",
    "    Given a row index, \n",
    "    return a image id and mask of the image in the format of (256, 1600, 4)\n",
    "    from the dataframe `df`\n",
    "    '''\n",
    "\n",
    "    masks = np.zeros((256, 1600, 4), dtype=np.float32)     \n",
    "    labels = df.iloc[row_id][2:-1]\n",
    "    for idx, label in enumerate(labels.values):\n",
    "        if label is not np.nan:\n",
    "            label = label.split(\" \")\n",
    "            positions = map(int, label[0::2])\n",
    "            length = map(int, label[1::2])\n",
    "            mask = np.zeros(256 * 1600, dtype=np.uint8)\n",
    "            for pos, le in zip(positions, length):\n",
    "                mask[pos:(pos + le)] = 1\n",
    "            masks[:, :, idx] = mask.reshape(256, 1600, order='F')\n",
    "    return masks"
   ]
  },
  {
   "cell_type": "code",
   "execution_count": 0,
   "metadata": {
    "colab": {},
    "colab_type": "code",
    "id": "yxm1sIylu5YJ"
   },
   "outputs": [],
   "source": [
    "class DataGenerator(tf.keras.utils.Sequence):\n",
    "    def __init__(self, df, image_dir, batch_size=16,\n",
    "                 img_h=256, img_w=256, shuffle=True):\n",
    "        \n",
    "        self.df = df\n",
    "        self.image_dir = image_dir\n",
    "        self.batch_size = batch_size\n",
    "        self.img_h = img_h\n",
    "        self.img_w = img_w\n",
    "        self.shuffle = shuffle\n",
    "        self.on_epoch_end()\n",
    "    \n",
    "    def __len__(self):\n",
    "        'denotes the number of batches per epoch'\n",
    "        return int(np.floor(len(self.df)) / self.batch_size)\n",
    "    \n",
    "    def __getitem__(self, index):\n",
    "        'generate one batch of data'\n",
    "        indexes = self.indexes[index*self.batch_size:(index+1)*self.batch_size]\n",
    "        # get list of IDs\n",
    "        list_ids_temp = indexes\n",
    "        # generate data\n",
    "        X, y = self.__data_generation(list_ids_temp)\n",
    "        # return data \n",
    "        return X, y\n",
    "    \n",
    "    def on_epoch_end(self):\n",
    "        'update ended after each epoch'\n",
    "        self.indexes = np.arange(len(self.df))\n",
    "        if self.shuffle:\n",
    "            np.random.shuffle(self.indexes)\n",
    "            \n",
    "    def __data_generation(self, list_ids_temp):\n",
    "      img_size = 256\n",
    "      x_batch = []\n",
    "      y_batch = []\n",
    "      for id in list_ids_temp: \n",
    "          # Get the image\n",
    "          image_name = self.df['ImageId'].iloc[id]\n",
    "          image = cv2.imread(self.image_dir  + 'train_images/'+image_name)\n",
    "          image = cv2.cvtColor(image, cv2.COLOR_BGR2RGB) \n",
    "          # Get the mask \n",
    "          mask = make_mask(id, self.df)\n",
    "          # Resize \n",
    "          image = cv2.resize(image, (img_size, img_size))\n",
    "          mask = cv2.resize(mask, (img_size, img_size))\n",
    "          # Add \n",
    "          x_batch += [image]\n",
    "          y_batch += [mask]\n",
    "      # Change to numpy                   \n",
    "      x_batch = np.array(x_batch)\n",
    "      y_batch = np.array(y_batch)\n",
    "      return x_batch, y_batch"
   ]
  },
  {
   "cell_type": "code",
   "execution_count": 0,
   "metadata": {
    "colab": {},
    "colab_type": "code",
    "id": "RxRV-EBJS5_x"
   },
   "outputs": [],
   "source": [
    "training_generator = DataGenerator(train_df, path)"
   ]
  },
  {
   "cell_type": "code",
   "execution_count": 0,
   "metadata": {
    "colab": {},
    "colab_type": "code",
    "id": "HSJdPbzrVMuR"
   },
   "outputs": [],
   "source": [
    "validation_generator = DataGenerator(val_df, path) "
   ]
  },
  {
   "cell_type": "code",
   "execution_count": 0,
   "metadata": {
    "colab": {
     "base_uri": "https://localhost:8080/",
     "height": 340
    },
    "colab_type": "code",
    "id": "4CSV_IQaTeol",
    "outputId": "0ec501e1-01ea-4f3f-ce6b-52c5fe389433"
   },
   "outputs": [
    {
     "name": "stdout",
     "output_type": "stream",
     "text": [
      "[1623 6867 4567 6818 2086 4986 4829 6645 7497 8282 2025 8396 4060 4459\n",
      " 2948 4548]\n",
      "1623\n",
      "6867\n",
      "4567\n",
      "6818\n",
      "2086\n",
      "4986\n",
      "4829\n",
      "6645\n",
      "7497\n",
      "8282\n",
      "2025\n",
      "8396\n",
      "4060\n",
      "4459\n",
      "2948\n",
      "4548\n",
      "(16, 256, 256, 3) (16, 256, 256, 4)\n"
     ]
    }
   ],
   "source": [
    "#x, y = training_generator.__getitem__(0)\n",
    "#print(x.shape, y.shape)"
   ]
  },
  {
   "cell_type": "code",
   "execution_count": 0,
   "metadata": {
    "colab": {
     "base_uri": "https://localhost:8080/",
     "height": 340
    },
    "colab_type": "code",
    "id": "dVncoAurVESF",
    "outputId": "ca1e262e-38e2-49e4-dfe7-53c156e83813"
   },
   "outputs": [
    {
     "name": "stdout",
     "output_type": "stream",
     "text": [
      "[6090 3937 5976 3302 8223  940 7609 9849 2884 2096 6230 1631  331 8186\n",
      " 4716 8661]\n",
      "6090\n",
      "3937\n",
      "5976\n",
      "3302\n",
      "8223\n",
      "940\n",
      "7609\n",
      "9849\n",
      "2884\n",
      "2096\n",
      "6230\n",
      "1631\n",
      "331\n",
      "8186\n",
      "4716\n",
      "8661\n",
      "(16, 256, 256, 3) (16, 256, 256, 4)\n"
     ]
    }
   ],
   "source": [
    "#x, y = training_generator.__getitem__(1)\n",
    "#print(x.shape, y.shape)"
   ]
  },
  {
   "cell_type": "code",
   "execution_count": 0,
   "metadata": {
    "colab": {},
    "colab_type": "code",
    "id": "HatOeyxnuCQP"
   },
   "outputs": [],
   "source": [
    "def class_imbalance(df): \n",
    "  '''\n",
    "  To treat for class imbalance, we will be using this function\n",
    "  '''\n",
    "  # Get the data, arrange it in classes \n",
    "  df['ImageId'], df['ClassId'] = zip(*df['ImageId_ClassId'].str.split('_'))\n",
    "  df['ClassId'] = df['ClassId'].astype(int)\n",
    "  df = df.pivot(index='ImageId',columns='ClassId',values='EncodedPixels')\n",
    "  df['defects'] = df.count(axis=1) \n",
    "  # Get the number of mask in each class \n",
    "  list_all = list(df.count())[: -1]\n",
    "  sum_list_all = sum(list_all) \n",
    "  return [list_all[i]/sum_list_all * 4  for i in range(len(list_all))] "
   ]
  },
  {
   "cell_type": "markdown",
   "metadata": {
    "colab_type": "text",
    "id": "i5LImQoevais"
   },
   "source": [
    "# Model"
   ]
  },
  {
   "cell_type": "code",
   "execution_count": 0,
   "metadata": {
    "colab": {},
    "colab_type": "code",
    "id": "TT5Z0H_by_1-"
   },
   "outputs": [],
   "source": [
    "def dsc(y_true, y_pred, smooth=1):\n",
    "    '''\n",
    "    Get the dice coefficiant of two oututs \n",
    "    '''\n",
    "    y_true_f = K.flatten(y_true)\n",
    "    y_pred_f = K.flatten(y_pred)\n",
    "    intersection = K.sum(y_true_f * y_pred_f)\n",
    "    return (2. * intersection + smooth) / (K.sum(y_true_f) + K.sum(y_pred_f) + smooth) \n",
    "  \n",
    "def dice_loss(y_true, y_pred):\n",
    "    '''\n",
    "    Get the loss \n",
    "    '''\n",
    "    loss = 1 - dsc(y_true, y_pred)\n",
    "    return loss\n",
    "\n",
    "def bce_dice_loss(y_true, y_pred):\n",
    "    '''\n",
    "    Get the loss\n",
    "    '''\n",
    "    loss = binary_crossentropy(y_true, y_pred) + dice_loss(y_true, y_pred)\n",
    "    return loss  "
   ]
  },
  {
   "cell_type": "code",
   "execution_count": 0,
   "metadata": {
    "colab": {},
    "colab_type": "code",
    "id": "h-fZGK2ayO5o"
   },
   "outputs": [],
   "source": [
    "# Make the model - UNET - No pretrain \n",
    "inputs = Input((256, 256, 3))\n",
    "s = Lambda(lambda x: x / 255) (inputs)\n",
    "\n",
    "c1 = Conv2D(16, (3, 3), activation='elu', kernel_initializer='he_normal', padding='same') (s)\n",
    "c1 = Dropout(0.1) (c1)\n",
    "c1 = Conv2D(16, (3, 3), activation='elu', kernel_initializer='he_normal', padding='same') (c1)\n",
    "p1 = MaxPooling2D((2, 2)) (c1)\n",
    "\n",
    "c2 = Conv2D(32, (3, 3), activation='elu', kernel_initializer='he_normal', padding='same') (p1)\n",
    "c2 = Dropout(0.1) (c2)\n",
    "c2 = Conv2D(32, (3, 3), activation='elu', kernel_initializer='he_normal', padding='same') (c2)\n",
    "p2 = MaxPooling2D((2, 2)) (c2)\n",
    "\n",
    "c3 = Conv2D(64, (3, 3), activation='elu', kernel_initializer='he_normal', padding='same') (p2)\n",
    "c3 = Dropout(0.2) (c3)\n",
    "c3 = Conv2D(64, (3, 3), activation='elu', kernel_initializer='he_normal', padding='same') (c3)\n",
    "p3 = MaxPooling2D((2, 2)) (c3)\n",
    "\n",
    "c4 = Conv2D(128, (3, 3), activation='elu', kernel_initializer='he_normal', padding='same') (p3)\n",
    "c4 = Dropout(0.2) (c4)\n",
    "c4 = Conv2D(128, (3, 3), activation='elu', kernel_initializer='he_normal', padding='same') (c4)\n",
    "p4 = MaxPooling2D(pool_size=(2, 2)) (c4)\n",
    "\n",
    "c5 = Conv2D(256, (3, 3), activation='elu', kernel_initializer='he_normal', padding='same') (p4)\n",
    "c5 = Dropout(0.3) (c5)\n",
    "c5 = Conv2D(256, (3, 3), activation='elu', kernel_initializer='he_normal', padding='same') (c5)\n",
    "\n",
    "u6 = Conv2DTranspose(128, (2, 2), strides=(2, 2), padding='same') (c5)\n",
    "u6 = concatenate([u6, c4])\n",
    "c6 = Conv2D(128, (3, 3), activation='elu', kernel_initializer='he_normal', padding='same') (u6)\n",
    "c6 = Dropout(0.2) (c6)\n",
    "c6 = Conv2D(128, (3, 3), activation='elu', kernel_initializer='he_normal', padding='same') (c6)\n",
    "\n",
    "u7 = Conv2DTranspose(64, (2, 2), strides=(2, 2), padding='same') (c6)\n",
    "u7 = concatenate([u7, c3])\n",
    "c7 = Conv2D(64, (3, 3), activation='elu', kernel_initializer='he_normal', padding='same') (u7)\n",
    "c7 = Dropout(0.2) (c7)\n",
    "c7 = Conv2D(64, (3, 3), activation='elu', kernel_initializer='he_normal', padding='same') (c7)\n",
    "\n",
    "u8 = Conv2DTranspose(32, (2, 2), strides=(2, 2), padding='same') (c7)\n",
    "u8 = concatenate([u8, c2])\n",
    "c8 = Conv2D(32, (3, 3), activation='elu', kernel_initializer='he_normal', padding='same') (u8)\n",
    "c8 = Dropout(0.1) (c8)\n",
    "c8 = Conv2D(32, (3, 3), activation='elu', kernel_initializer='he_normal', padding='same') (c8)\n",
    "\n",
    "u9 = Conv2DTranspose(16, (2, 2), strides=(2, 2), padding='same') (c8)\n",
    "u9 = concatenate([u9, c1], axis=3)\n",
    "c9 = Conv2D(16, (3, 3), activation='elu', kernel_initializer='he_normal', padding='same') (u9)\n",
    "c9 = Dropout(0.1) (c9)\n",
    "c9 = Conv2D(16, (3, 3), activation='elu', kernel_initializer='he_normal', padding='same') (c9)\n",
    "\n",
    "outputs = Conv2D(4, (1, 1), activation='sigmoid') (c9)\n"
   ]
  },
  {
   "cell_type": "code",
   "execution_count": 0,
   "metadata": {
    "colab": {},
    "colab_type": "code",
    "id": "39UTk-QcvoM4"
   },
   "outputs": [],
   "source": [
    "# Complie the model\n",
    "model = Model(inputs=[inputs], outputs=[outputs])\n",
    "model.compile(optimizer='adam', loss= bce_dice_loss , metrics = [dsc])"
   ]
  },
  {
   "cell_type": "markdown",
   "metadata": {
    "colab_type": "text",
    "id": "JrYfJZsbvsqP"
   },
   "source": [
    "# Test & Train"
   ]
  },
  {
   "cell_type": "code",
   "execution_count": 0,
   "metadata": {
    "colab": {},
    "colab_type": "code",
    "id": "Gui3Ch8zLwRS"
   },
   "outputs": [],
   "source": [
    "from keras.callbacks import EarlyStopping, ModelCheckpoint\n",
    "checkpoint = ModelCheckpoint(path + 'model_best_weights_unet3.h5', monitor='loss', verbose=1, save_best_only=False, mode='min', period=1) "
   ]
  },
  {
   "cell_type": "code",
   "execution_count": 0,
   "metadata": {
    "colab": {
     "base_uri": "https://localhost:8080/",
     "height": 1000
    },
    "colab_type": "code",
    "id": "knAuRzwDw9hl",
    "outputId": "750c3133-55c4-4e11-9bf6-d590faf72002"
   },
   "outputs": [
    {
     "name": "stdout",
     "output_type": "stream",
     "text": [
      "Epoch 1/50\n",
      "WARNING:tensorflow:From /usr/local/lib/python3.6/dist-packages/keras/backend/tensorflow_backend.py:190: The name tf.get_default_session is deprecated. Please use tf.compat.v1.get_default_session instead.\n",
      "\n",
      "WARNING:tensorflow:From /usr/local/lib/python3.6/dist-packages/keras/backend/tensorflow_backend.py:197: The name tf.ConfigProto is deprecated. Please use tf.compat.v1.ConfigProto instead.\n",
      "\n",
      "WARNING:tensorflow:From /usr/local/lib/python3.6/dist-packages/keras/backend/tensorflow_backend.py:207: The name tf.global_variables is deprecated. Please use tf.compat.v1.global_variables instead.\n",
      "\n",
      "WARNING:tensorflow:From /usr/local/lib/python3.6/dist-packages/keras/backend/tensorflow_backend.py:216: The name tf.is_variable_initialized is deprecated. Please use tf.compat.v1.is_variable_initialized instead.\n",
      "\n",
      "WARNING:tensorflow:From /usr/local/lib/python3.6/dist-packages/keras/backend/tensorflow_backend.py:223: The name tf.variables_initializer is deprecated. Please use tf.compat.v1.variables_initializer instead.\n",
      "\n",
      "100/100 [==============================] - 2131s 21s/step - loss: 1.0600 - dsc: 0.0275 - val_loss: 1.0075 - val_dsc: 0.0321\n",
      "\n",
      "Epoch 00001: saving model to /content/drive/My Drive/project/data_main/model_best_weights_unet3.h5\n",
      "Epoch 2/50\n",
      "100/100 [==============================] - 831s 8s/step - loss: 1.0118 - dsc: 0.0373 - val_loss: 1.0082 - val_dsc: 0.0462\n",
      "\n",
      "Epoch 00002: saving model to /content/drive/My Drive/project/data_main/model_best_weights_unet3.h5\n",
      "Epoch 3/50\n",
      "100/100 [==============================] - 859s 9s/step - loss: 0.9845 - dsc: 0.0710 - val_loss: 0.9390 - val_dsc: 0.1128\n",
      "\n",
      "Epoch 00003: saving model to /content/drive/My Drive/project/data_main/model_best_weights_unet3.h5\n",
      "Epoch 4/50\n",
      "100/100 [==============================] - 874s 9s/step - loss: 0.9213 - dsc: 0.1356 - val_loss: 0.9199 - val_dsc: 0.1377\n",
      "\n",
      "Epoch 00004: saving model to /content/drive/My Drive/project/data_main/model_best_weights_unet3.h5\n",
      "Epoch 5/50\n",
      "100/100 [==============================] - 867s 9s/step - loss: 0.8879 - dsc: 0.1724 - val_loss: 0.8945 - val_dsc: 0.1634\n",
      "\n",
      "Epoch 00005: saving model to /content/drive/My Drive/project/data_main/model_best_weights_unet3.h5\n",
      "Epoch 6/50\n",
      "100/100 [==============================] - 858s 9s/step - loss: 0.8661 - dsc: 0.1868 - val_loss: 0.8863 - val_dsc: 0.1753\n",
      "\n",
      "Epoch 00006: saving model to /content/drive/My Drive/project/data_main/model_best_weights_unet3.h5\n",
      "Epoch 7/50\n",
      "100/100 [==============================] - 263s 3s/step - loss: 0.8463 - dsc: 0.2065 - val_loss: 0.8477 - val_dsc: 0.2018\n",
      "\n",
      "Epoch 00007: saving model to /content/drive/My Drive/project/data_main/model_best_weights_unet3.h5\n",
      "Epoch 8/50\n",
      "100/100 [==============================] - 86s 861ms/step - loss: 0.8458 - dsc: 0.2117 - val_loss: 0.8198 - val_dsc: 0.2314\n",
      "\n",
      "Epoch 00008: saving model to /content/drive/My Drive/project/data_main/model_best_weights_unet3.h5\n",
      "Epoch 9/50\n",
      "100/100 [==============================] - 89s 892ms/step - loss: 0.8387 - dsc: 0.2126 - val_loss: 0.8212 - val_dsc: 0.2302\n",
      "\n",
      "Epoch 00009: saving model to /content/drive/My Drive/project/data_main/model_best_weights_unet3.h5\n",
      "Epoch 10/50\n",
      "100/100 [==============================] - 90s 896ms/step - loss: 0.8155 - dsc: 0.2360 - val_loss: 0.7959 - val_dsc: 0.2578\n",
      "\n",
      "Epoch 00010: saving model to /content/drive/My Drive/project/data_main/model_best_weights_unet3.h5\n",
      "Epoch 11/50\n",
      "100/100 [==============================] - 88s 884ms/step - loss: 0.8026 - dsc: 0.2485 - val_loss: 0.7995 - val_dsc: 0.2559\n",
      "\n",
      "Epoch 00011: saving model to /content/drive/My Drive/project/data_main/model_best_weights_unet3.h5\n",
      "Epoch 12/50\n",
      "100/100 [==============================] - 87s 874ms/step - loss: 0.7909 - dsc: 0.2616 - val_loss: 0.7966 - val_dsc: 0.2574\n",
      "\n",
      "Epoch 00012: saving model to /content/drive/My Drive/project/data_main/model_best_weights_unet3.h5\n",
      "Epoch 13/50\n",
      "100/100 [==============================] - 88s 884ms/step - loss: 0.7981 - dsc: 0.2553 - val_loss: 0.7971 - val_dsc: 0.2602\n",
      "\n",
      "Epoch 00013: saving model to /content/drive/My Drive/project/data_main/model_best_weights_unet3.h5\n",
      "Epoch 14/50\n",
      "100/100 [==============================] - 88s 876ms/step - loss: 0.8036 - dsc: 0.2457 - val_loss: 0.7733 - val_dsc: 0.2726\n",
      "\n",
      "Epoch 00014: saving model to /content/drive/My Drive/project/data_main/model_best_weights_unet3.h5\n",
      "Epoch 15/50\n",
      "100/100 [==============================] - 87s 870ms/step - loss: 0.7865 - dsc: 0.2645 - val_loss: 0.7909 - val_dsc: 0.2534\n",
      "\n",
      "Epoch 00015: saving model to /content/drive/My Drive/project/data_main/model_best_weights_unet3.h5\n",
      "Epoch 16/50\n",
      "100/100 [==============================] - 84s 837ms/step - loss: 0.7845 - dsc: 0.2662 - val_loss: 0.7842 - val_dsc: 0.2691\n",
      "\n",
      "Epoch 00016: saving model to /content/drive/My Drive/project/data_main/model_best_weights_unet3.h5\n",
      "Epoch 17/50\n",
      "100/100 [==============================] - 84s 843ms/step - loss: 0.7459 - dsc: 0.3057 - val_loss: 0.7701 - val_dsc: 0.2802\n",
      "\n",
      "Epoch 00017: saving model to /content/drive/My Drive/project/data_main/model_best_weights_unet3.h5\n",
      "Epoch 18/50\n",
      "100/100 [==============================] - 85s 846ms/step - loss: 0.8388 - dsc: 0.2367 - val_loss: 0.7833 - val_dsc: 0.2645\n",
      "\n",
      "Epoch 00018: saving model to /content/drive/My Drive/project/data_main/model_best_weights_unet3.h5\n",
      "Epoch 19/50\n",
      "100/100 [==============================] - 87s 872ms/step - loss: 0.7521 - dsc: 0.2957 - val_loss: 0.7560 - val_dsc: 0.2969\n",
      "\n",
      "Epoch 00019: saving model to /content/drive/My Drive/project/data_main/model_best_weights_unet3.h5\n",
      "Epoch 20/50\n",
      "100/100 [==============================] - 86s 864ms/step - loss: 0.7513 - dsc: 0.3010 - val_loss: 0.7612 - val_dsc: 0.2865\n",
      "\n",
      "Epoch 00020: saving model to /content/drive/My Drive/project/data_main/model_best_weights_unet3.h5\n",
      "Epoch 21/50\n",
      "100/100 [==============================] - 87s 866ms/step - loss: 0.7828 - dsc: 0.2685 - val_loss: 0.7607 - val_dsc: 0.2866\n",
      "\n",
      "Epoch 00021: saving model to /content/drive/My Drive/project/data_main/model_best_weights_unet3.h5\n",
      "Epoch 22/50\n",
      "100/100 [==============================] - 87s 869ms/step - loss: 0.7456 - dsc: 0.3024 - val_loss: 0.7685 - val_dsc: 0.3071\n",
      "\n",
      "Epoch 00022: saving model to /content/drive/My Drive/project/data_main/model_best_weights_unet3.h5\n",
      "Epoch 23/50\n",
      "100/100 [==============================] - 86s 857ms/step - loss: 0.8376 - dsc: 0.2741 - val_loss: 0.7735 - val_dsc: 0.2776\n",
      "\n",
      "Epoch 00023: saving model to /content/drive/My Drive/project/data_main/model_best_weights_unet3.h5\n",
      "Epoch 24/50\n",
      "100/100 [==============================] - 86s 863ms/step - loss: 0.7687 - dsc: 0.2786 - val_loss: 0.7580 - val_dsc: 0.3006\n",
      "\n",
      "Epoch 00024: saving model to /content/drive/My Drive/project/data_main/model_best_weights_unet3.h5\n",
      "Epoch 25/50\n",
      "100/100 [==============================] - 88s 876ms/step - loss: 0.7966 - dsc: 0.2557 - val_loss: 0.7477 - val_dsc: 0.2995\n",
      "\n",
      "Epoch 00025: saving model to /content/drive/My Drive/project/data_main/model_best_weights_unet3.h5\n",
      "Epoch 26/50\n",
      "100/100 [==============================] - 85s 845ms/step - loss: 0.7570 - dsc: 0.2902 - val_loss: 0.7455 - val_dsc: 0.3052\n",
      "\n",
      "Epoch 00026: saving model to /content/drive/My Drive/project/data_main/model_best_weights_unet3.h5\n",
      "Epoch 27/50\n",
      "100/100 [==============================] - 85s 854ms/step - loss: 0.7361 - dsc: 0.3140 - val_loss: 0.7435 - val_dsc: 0.3109\n",
      "\n",
      "Epoch 00027: saving model to /content/drive/My Drive/project/data_main/model_best_weights_unet3.h5\n",
      "Epoch 28/50\n",
      "100/100 [==============================] - 88s 883ms/step - loss: 0.7237 - dsc: 0.3255 - val_loss: 0.7410 - val_dsc: 0.3108\n",
      "\n",
      "Epoch 00028: saving model to /content/drive/My Drive/project/data_main/model_best_weights_unet3.h5\n",
      "Epoch 29/50\n",
      "100/100 [==============================] - 88s 883ms/step - loss: 0.7603 - dsc: 0.2918 - val_loss: 0.7415 - val_dsc: 0.3058\n",
      "\n",
      "Epoch 00029: saving model to /content/drive/My Drive/project/data_main/model_best_weights_unet3.h5\n",
      "Epoch 30/50\n",
      "100/100 [==============================] - 86s 863ms/step - loss: 0.7549 - dsc: 0.2960 - val_loss: 0.7323 - val_dsc: 0.3152\n",
      "\n",
      "Epoch 00030: saving model to /content/drive/My Drive/project/data_main/model_best_weights_unet3.h5\n",
      "Epoch 31/50\n",
      "100/100 [==============================] - 89s 889ms/step - loss: 0.7692 - dsc: 0.2802 - val_loss: 0.7328 - val_dsc: 0.3181\n",
      "\n",
      "Epoch 00031: saving model to /content/drive/My Drive/project/data_main/model_best_weights_unet3.h5\n",
      "Epoch 32/50\n",
      "100/100 [==============================] - 89s 886ms/step - loss: 0.7543 - dsc: 0.2965 - val_loss: 0.7496 - val_dsc: 0.2980\n",
      "\n",
      "Epoch 00032: saving model to /content/drive/My Drive/project/data_main/model_best_weights_unet3.h5\n",
      "Epoch 33/50\n",
      "100/100 [==============================] - 88s 875ms/step - loss: 0.7321 - dsc: 0.3146 - val_loss: 0.7431 - val_dsc: 0.3061\n",
      "\n",
      "Epoch 00033: saving model to /content/drive/My Drive/project/data_main/model_best_weights_unet3.h5\n",
      "Epoch 34/50\n",
      "100/100 [==============================] - 88s 885ms/step - loss: 0.7180 - dsc: 0.3312 - val_loss: 0.7235 - val_dsc: 0.3257\n",
      "\n",
      "Epoch 00034: saving model to /content/drive/My Drive/project/data_main/model_best_weights_unet3.h5\n",
      "Epoch 35/50\n",
      "100/100 [==============================] - 89s 895ms/step - loss: 0.7379 - dsc: 0.3139 - val_loss: 0.7226 - val_dsc: 0.3254\n",
      "\n",
      "Epoch 00035: saving model to /content/drive/My Drive/project/data_main/model_best_weights_unet3.h5\n",
      "Epoch 36/50\n",
      "100/100 [==============================] - 88s 883ms/step - loss: 0.7262 - dsc: 0.3212 - val_loss: 0.7228 - val_dsc: 0.3261\n",
      "\n",
      "Epoch 00036: saving model to /content/drive/My Drive/project/data_main/model_best_weights_unet3.h5\n",
      "Epoch 37/50\n",
      "100/100 [==============================] - 88s 882ms/step - loss: 0.7351 - dsc: 0.3099 - val_loss: 0.7257 - val_dsc: 0.3223\n",
      "\n",
      "Epoch 00037: saving model to /content/drive/My Drive/project/data_main/model_best_weights_unet3.h5\n",
      "Epoch 38/50\n",
      "100/100 [==============================] - 86s 861ms/step - loss: 0.7184 - dsc: 0.3317 - val_loss: 0.7206 - val_dsc: 0.3248\n",
      "\n",
      "Epoch 00038: saving model to /content/drive/My Drive/project/data_main/model_best_weights_unet3.h5\n",
      "Epoch 39/50\n",
      "100/100 [==============================] - 87s 870ms/step - loss: 0.7202 - dsc: 0.3282 - val_loss: 0.7218 - val_dsc: 0.3218\n",
      "\n",
      "Epoch 00039: saving model to /content/drive/My Drive/project/data_main/model_best_weights_unet3.h5\n",
      "Epoch 40/50\n",
      "100/100 [==============================] - 87s 869ms/step - loss: 0.7091 - dsc: 0.3376 - val_loss: 0.7215 - val_dsc: 0.3284\n",
      "\n",
      "Epoch 00040: saving model to /content/drive/My Drive/project/data_main/model_best_weights_unet3.h5\n",
      "Epoch 41/50\n",
      "100/100 [==============================] - 87s 869ms/step - loss: 0.7286 - dsc: 0.3194 - val_loss: 0.7223 - val_dsc: 0.3257\n",
      "\n",
      "Epoch 00041: saving model to /content/drive/My Drive/project/data_main/model_best_weights_unet3.h5\n",
      "Epoch 42/50\n",
      "100/100 [==============================] - 88s 878ms/step - loss: 0.6944 - dsc: 0.3503 - val_loss: 0.7233 - val_dsc: 0.3288\n",
      "\n",
      "Epoch 00042: saving model to /content/drive/My Drive/project/data_main/model_best_weights_unet3.h5\n",
      "Epoch 43/50\n",
      "100/100 [==============================] - 88s 878ms/step - loss: 0.7186 - dsc: 0.3308 - val_loss: 0.7253 - val_dsc: 0.3232\n",
      "\n",
      "Epoch 00043: saving model to /content/drive/My Drive/project/data_main/model_best_weights_unet3.h5\n",
      "Epoch 44/50\n",
      "100/100 [==============================] - 89s 887ms/step - loss: 0.7315 - dsc: 0.3146 - val_loss: 0.6917 - val_dsc: 0.3536\n",
      "\n",
      "Epoch 00044: saving model to /content/drive/My Drive/project/data_main/model_best_weights_unet3.h5\n",
      "Epoch 45/50\n",
      "100/100 [==============================] - 90s 902ms/step - loss: 0.7209 - dsc: 0.3278 - val_loss: 0.7048 - val_dsc: 0.3380\n",
      "\n",
      "Epoch 00045: saving model to /content/drive/My Drive/project/data_main/model_best_weights_unet3.h5\n",
      "Epoch 46/50\n",
      "100/100 [==============================] - 89s 891ms/step - loss: 0.7200 - dsc: 0.3307 - val_loss: 0.7266 - val_dsc: 0.3238\n",
      "\n",
      "Epoch 00046: saving model to /content/drive/My Drive/project/data_main/model_best_weights_unet3.h5\n",
      "Epoch 47/50\n",
      "100/100 [==============================] - 88s 883ms/step - loss: 0.7286 - dsc: 0.3198 - val_loss: 0.7208 - val_dsc: 0.3305\n",
      "\n",
      "Epoch 00047: saving model to /content/drive/My Drive/project/data_main/model_best_weights_unet3.h5\n",
      "Epoch 48/50\n",
      "100/100 [==============================] - 88s 884ms/step - loss: 0.6974 - dsc: 0.3479 - val_loss: 0.6925 - val_dsc: 0.3556\n",
      "\n",
      "Epoch 00048: saving model to /content/drive/My Drive/project/data_main/model_best_weights_unet3.h5\n",
      "Epoch 49/50\n",
      "100/100 [==============================] - 89s 886ms/step - loss: 0.7142 - dsc: 0.3303 - val_loss: 0.6955 - val_dsc: 0.3484\n",
      "\n",
      "Epoch 00049: saving model to /content/drive/My Drive/project/data_main/model_best_weights_unet3.h5\n",
      "Epoch 50/50\n",
      "100/100 [==============================] - 89s 886ms/step - loss: 0.7052 - dsc: 0.3417 - val_loss: 0.7085 - val_dsc: 0.3352\n",
      "\n",
      "Epoch 00050: saving model to /content/drive/My Drive/project/data_main/model_best_weights_unet3.h5\n"
     ]
    }
   ],
   "source": [
    "batch_size = 16\n",
    "results = model.fit_generator(generator=training_generator, \n",
    "                              validation_data=validation_generator,\n",
    "                              class_weight=class_imbalance(df_no_null),  \n",
    "                              steps_per_epoch= 100,\n",
    "                              epochs=50, callbacks = [checkpoint],) "
   ]
  },
  {
   "cell_type": "markdown",
   "metadata": {
    "colab_type": "text",
    "id": "KgzbEqTiNwYw"
   },
   "source": [
    "# Output & Visulisation"
   ]
  },
  {
   "cell_type": "code",
   "execution_count": 0,
   "metadata": {
    "colab": {},
    "colab_type": "code",
    "id": "J0224cjCJHEl"
   },
   "outputs": [],
   "source": [
    "history = results\n"
   ]
  },
  {
   "cell_type": "code",
   "execution_count": 0,
   "metadata": {
    "colab": {
     "base_uri": "https://localhost:8080/",
     "height": 312
    },
    "colab_type": "code",
    "id": "16rNgXjSIN1k",
    "outputId": "b0efb4e2-a969-496a-e29c-039dd02541b8"
   },
   "outputs": [
    {
     "name": "stdout",
     "output_type": "stream",
     "text": [
      "dict_keys(['val_loss', 'val_dsc', 'loss', 'dsc'])\n"
     ]
    },
    {
     "data": {
      "image/png": "[encoded data removed]",
      "text/plain": [
       "<Figure size 432x288 with 1 Axes>"
      ]
     },
     "metadata": {
      "tags": []
     },
     "output_type": "display_data"
    }
   ],
   "source": [
    "import matplotlib.pyplot as plt\n",
    "\n",
    "# list all data in history\n",
    "print(history.history.keys())\n",
    "# summarize history for loss\n",
    "plt.plot(history.history['loss'])\n",
    "plt.plot(history.history['val_loss'])\n",
    "plt.title('Model Loss')\n",
    "plt.ylabel('loss')\n",
    "plt.xlabel('epoch')\n",
    "plt.legend(['train', 'test'], loc='upper left')\n",
    "plt.show()"
   ]
  },
  {
   "cell_type": "code",
   "execution_count": 0,
   "metadata": {
    "colab": {
     "base_uri": "https://localhost:8080/",
     "height": 312
    },
    "colab_type": "code",
    "id": "t4B0wvaNJ5vZ",
    "outputId": "bf1e60de-a337-4453-ab09-35677e97ae34"
   },
   "outputs": [
    {
     "name": "stdout",
     "output_type": "stream",
     "text": [
      "dict_keys(['val_loss', 'val_dsc', 'loss', 'dsc'])\n"
     ]
    },
    {
     "data": {
      "image/png": "[encoded data removed]",
      "text/plain": [
       "<Figure size 432x288 with 1 Axes>"
      ]
     },
     "metadata": {
      "tags": []
     },
     "output_type": "display_data"
    }
   ],
   "source": [
    "import matplotlib.pyplot as plt\n",
    "\n",
    "# list all data in history\n",
    "print(history.history.keys())\n",
    "# summarize history for loss\n",
    "plt.plot(history.history['dsc'])\n",
    "plt.plot(history.history['val_dsc'])\n",
    "plt.title('Model Dice Metrics')\n",
    "plt.ylabel('dsc')\n",
    "plt.xlabel('epoch')\n",
    "plt.legend(['train', 'test'], loc='upper left')\n",
    "plt.show()"
   ]
  },
  {
   "cell_type": "code",
   "execution_count": 0,
   "metadata": {
    "colab": {},
    "colab_type": "code",
    "id": "PgjwHKjPKwls"
   },
   "outputs": [],
   "source": [
    "results_output = pd.DataFrame()"
   ]
  },
  {
   "cell_type": "code",
   "execution_count": 0,
   "metadata": {
    "colab": {},
    "colab_type": "code",
    "id": "Rz38Iq5VIqyo"
   },
   "outputs": [],
   "source": [
    "results_output[\"Epoch\"] = list(range(1,51))\n",
    "results_output['Loss'] = history.history['loss']\n",
    "results_output['Dice Metrics'] = history.history['dsc'] \n",
    "results_output['Validation Loss'] = history.history['val_loss'] \n",
    "results_output['Validation Dice Metrics'] = history.history['val_dsc'] \n"
   ]
  },
  {
   "cell_type": "code",
   "execution_count": 0,
   "metadata": {
    "colab": {},
    "colab_type": "code",
    "id": "AgX_-KedKFbm"
   },
   "outputs": [],
   "source": [
    "results_output  = results_output.round(3) "
   ]
  },
  {
   "cell_type": "code",
   "execution_count": 0,
   "metadata": {
    "colab": {
     "base_uri": "https://localhost:8080/",
     "height": 1000
    },
    "colab_type": "code",
    "id": "pSkt16Q8K61h",
    "outputId": "94f5a72b-3c9e-4617-ad84-8be1789a2cac"
   },
   "outputs": [
    {
     "data": {
      "text/html": [
       "<div>\n",
       "<style scoped>\n",
       "    .dataframe tbody tr th:only-of-type {\n",
       "        vertical-align: middle;\n",
       "    }\n",
       "\n",
       "    .dataframe tbody tr th {\n",
       "        vertical-align: top;\n",
       "    }\n",
       "\n",
       "    .dataframe thead th {\n",
       "        text-align: right;\n",
       "    }\n",
       "</style>\n",
       "<table border=\"1\" class=\"dataframe\">\n",
       "  <thead>\n",
       "    <tr style=\"text-align: right;\">\n",
       "      <th></th>\n",
       "      <th>Epoch</th>\n",
       "      <th>Loss</th>\n",
       "      <th>Dice Metrics</th>\n",
       "      <th>Validation Loss</th>\n",
       "      <th>Validation Dice Metrics</th>\n",
       "    </tr>\n",
       "  </thead>\n",
       "  <tbody>\n",
       "    <tr>\n",
       "      <th>0</th>\n",
       "      <td>1</td>\n",
       "      <td>1.060</td>\n",
       "      <td>0.028</td>\n",
       "      <td>1.008</td>\n",
       "      <td>0.032</td>\n",
       "    </tr>\n",
       "    <tr>\n",
       "      <th>1</th>\n",
       "      <td>2</td>\n",
       "      <td>1.012</td>\n",
       "      <td>0.037</td>\n",
       "      <td>1.008</td>\n",
       "      <td>0.046</td>\n",
       "    </tr>\n",
       "    <tr>\n",
       "      <th>2</th>\n",
       "      <td>3</td>\n",
       "      <td>0.985</td>\n",
       "      <td>0.071</td>\n",
       "      <td>0.939</td>\n",
       "      <td>0.113</td>\n",
       "    </tr>\n",
       "    <tr>\n",
       "      <th>3</th>\n",
       "      <td>4</td>\n",
       "      <td>0.921</td>\n",
       "      <td>0.136</td>\n",
       "      <td>0.920</td>\n",
       "      <td>0.138</td>\n",
       "    </tr>\n",
       "    <tr>\n",
       "      <th>4</th>\n",
       "      <td>5</td>\n",
       "      <td>0.888</td>\n",
       "      <td>0.172</td>\n",
       "      <td>0.894</td>\n",
       "      <td>0.163</td>\n",
       "    </tr>\n",
       "    <tr>\n",
       "      <th>5</th>\n",
       "      <td>6</td>\n",
       "      <td>0.866</td>\n",
       "      <td>0.187</td>\n",
       "      <td>0.886</td>\n",
       "      <td>0.175</td>\n",
       "    </tr>\n",
       "    <tr>\n",
       "      <th>6</th>\n",
       "      <td>7</td>\n",
       "      <td>0.846</td>\n",
       "      <td>0.206</td>\n",
       "      <td>0.848</td>\n",
       "      <td>0.202</td>\n",
       "    </tr>\n",
       "    <tr>\n",
       "      <th>7</th>\n",
       "      <td>8</td>\n",
       "      <td>0.846</td>\n",
       "      <td>0.212</td>\n",
       "      <td>0.820</td>\n",
       "      <td>0.231</td>\n",
       "    </tr>\n",
       "    <tr>\n",
       "      <th>8</th>\n",
       "      <td>9</td>\n",
       "      <td>0.839</td>\n",
       "      <td>0.213</td>\n",
       "      <td>0.821</td>\n",
       "      <td>0.230</td>\n",
       "    </tr>\n",
       "    <tr>\n",
       "      <th>9</th>\n",
       "      <td>10</td>\n",
       "      <td>0.815</td>\n",
       "      <td>0.236</td>\n",
       "      <td>0.796</td>\n",
       "      <td>0.258</td>\n",
       "    </tr>\n",
       "    <tr>\n",
       "      <th>10</th>\n",
       "      <td>11</td>\n",
       "      <td>0.803</td>\n",
       "      <td>0.248</td>\n",
       "      <td>0.800</td>\n",
       "      <td>0.256</td>\n",
       "    </tr>\n",
       "    <tr>\n",
       "      <th>11</th>\n",
       "      <td>12</td>\n",
       "      <td>0.791</td>\n",
       "      <td>0.262</td>\n",
       "      <td>0.797</td>\n",
       "      <td>0.257</td>\n",
       "    </tr>\n",
       "    <tr>\n",
       "      <th>12</th>\n",
       "      <td>13</td>\n",
       "      <td>0.798</td>\n",
       "      <td>0.255</td>\n",
       "      <td>0.797</td>\n",
       "      <td>0.260</td>\n",
       "    </tr>\n",
       "    <tr>\n",
       "      <th>13</th>\n",
       "      <td>14</td>\n",
       "      <td>0.804</td>\n",
       "      <td>0.246</td>\n",
       "      <td>0.773</td>\n",
       "      <td>0.273</td>\n",
       "    </tr>\n",
       "    <tr>\n",
       "      <th>14</th>\n",
       "      <td>15</td>\n",
       "      <td>0.786</td>\n",
       "      <td>0.265</td>\n",
       "      <td>0.791</td>\n",
       "      <td>0.253</td>\n",
       "    </tr>\n",
       "    <tr>\n",
       "      <th>15</th>\n",
       "      <td>16</td>\n",
       "      <td>0.785</td>\n",
       "      <td>0.266</td>\n",
       "      <td>0.784</td>\n",
       "      <td>0.269</td>\n",
       "    </tr>\n",
       "    <tr>\n",
       "      <th>16</th>\n",
       "      <td>17</td>\n",
       "      <td>0.746</td>\n",
       "      <td>0.306</td>\n",
       "      <td>0.770</td>\n",
       "      <td>0.280</td>\n",
       "    </tr>\n",
       "    <tr>\n",
       "      <th>17</th>\n",
       "      <td>18</td>\n",
       "      <td>0.839</td>\n",
       "      <td>0.237</td>\n",
       "      <td>0.783</td>\n",
       "      <td>0.264</td>\n",
       "    </tr>\n",
       "    <tr>\n",
       "      <th>18</th>\n",
       "      <td>19</td>\n",
       "      <td>0.752</td>\n",
       "      <td>0.296</td>\n",
       "      <td>0.756</td>\n",
       "      <td>0.297</td>\n",
       "    </tr>\n",
       "    <tr>\n",
       "      <th>19</th>\n",
       "      <td>20</td>\n",
       "      <td>0.751</td>\n",
       "      <td>0.301</td>\n",
       "      <td>0.761</td>\n",
       "      <td>0.287</td>\n",
       "    </tr>\n",
       "    <tr>\n",
       "      <th>20</th>\n",
       "      <td>21</td>\n",
       "      <td>0.783</td>\n",
       "      <td>0.269</td>\n",
       "      <td>0.761</td>\n",
       "      <td>0.287</td>\n",
       "    </tr>\n",
       "    <tr>\n",
       "      <th>21</th>\n",
       "      <td>22</td>\n",
       "      <td>0.746</td>\n",
       "      <td>0.302</td>\n",
       "      <td>0.769</td>\n",
       "      <td>0.307</td>\n",
       "    </tr>\n",
       "    <tr>\n",
       "      <th>22</th>\n",
       "      <td>23</td>\n",
       "      <td>0.838</td>\n",
       "      <td>0.274</td>\n",
       "      <td>0.774</td>\n",
       "      <td>0.278</td>\n",
       "    </tr>\n",
       "    <tr>\n",
       "      <th>23</th>\n",
       "      <td>24</td>\n",
       "      <td>0.769</td>\n",
       "      <td>0.279</td>\n",
       "      <td>0.758</td>\n",
       "      <td>0.301</td>\n",
       "    </tr>\n",
       "    <tr>\n",
       "      <th>24</th>\n",
       "      <td>25</td>\n",
       "      <td>0.797</td>\n",
       "      <td>0.256</td>\n",
       "      <td>0.748</td>\n",
       "      <td>0.300</td>\n",
       "    </tr>\n",
       "    <tr>\n",
       "      <th>25</th>\n",
       "      <td>26</td>\n",
       "      <td>0.757</td>\n",
       "      <td>0.290</td>\n",
       "      <td>0.746</td>\n",
       "      <td>0.305</td>\n",
       "    </tr>\n",
       "    <tr>\n",
       "      <th>26</th>\n",
       "      <td>27</td>\n",
       "      <td>0.736</td>\n",
       "      <td>0.314</td>\n",
       "      <td>0.744</td>\n",
       "      <td>0.311</td>\n",
       "    </tr>\n",
       "    <tr>\n",
       "      <th>27</th>\n",
       "      <td>28</td>\n",
       "      <td>0.724</td>\n",
       "      <td>0.326</td>\n",
       "      <td>0.741</td>\n",
       "      <td>0.311</td>\n",
       "    </tr>\n",
       "    <tr>\n",
       "      <th>28</th>\n",
       "      <td>29</td>\n",
       "      <td>0.760</td>\n",
       "      <td>0.292</td>\n",
       "      <td>0.741</td>\n",
       "      <td>0.306</td>\n",
       "    </tr>\n",
       "    <tr>\n",
       "      <th>29</th>\n",
       "      <td>30</td>\n",
       "      <td>0.755</td>\n",
       "      <td>0.296</td>\n",
       "      <td>0.732</td>\n",
       "      <td>0.315</td>\n",
       "    </tr>\n",
       "    <tr>\n",
       "      <th>30</th>\n",
       "      <td>31</td>\n",
       "      <td>0.769</td>\n",
       "      <td>0.280</td>\n",
       "      <td>0.733</td>\n",
       "      <td>0.318</td>\n",
       "    </tr>\n",
       "    <tr>\n",
       "      <th>31</th>\n",
       "      <td>32</td>\n",
       "      <td>0.754</td>\n",
       "      <td>0.296</td>\n",
       "      <td>0.750</td>\n",
       "      <td>0.298</td>\n",
       "    </tr>\n",
       "    <tr>\n",
       "      <th>32</th>\n",
       "      <td>33</td>\n",
       "      <td>0.732</td>\n",
       "      <td>0.315</td>\n",
       "      <td>0.743</td>\n",
       "      <td>0.306</td>\n",
       "    </tr>\n",
       "    <tr>\n",
       "      <th>33</th>\n",
       "      <td>34</td>\n",
       "      <td>0.718</td>\n",
       "      <td>0.331</td>\n",
       "      <td>0.723</td>\n",
       "      <td>0.326</td>\n",
       "    </tr>\n",
       "    <tr>\n",
       "      <th>34</th>\n",
       "      <td>35</td>\n",
       "      <td>0.738</td>\n",
       "      <td>0.314</td>\n",
       "      <td>0.723</td>\n",
       "      <td>0.325</td>\n",
       "    </tr>\n",
       "    <tr>\n",
       "      <th>35</th>\n",
       "      <td>36</td>\n",
       "      <td>0.726</td>\n",
       "      <td>0.321</td>\n",
       "      <td>0.723</td>\n",
       "      <td>0.326</td>\n",
       "    </tr>\n",
       "    <tr>\n",
       "      <th>36</th>\n",
       "      <td>37</td>\n",
       "      <td>0.735</td>\n",
       "      <td>0.310</td>\n",
       "      <td>0.726</td>\n",
       "      <td>0.322</td>\n",
       "    </tr>\n",
       "    <tr>\n",
       "      <th>37</th>\n",
       "      <td>38</td>\n",
       "      <td>0.718</td>\n",
       "      <td>0.332</td>\n",
       "      <td>0.721</td>\n",
       "      <td>0.325</td>\n",
       "    </tr>\n",
       "    <tr>\n",
       "      <th>38</th>\n",
       "      <td>39</td>\n",
       "      <td>0.720</td>\n",
       "      <td>0.328</td>\n",
       "      <td>0.722</td>\n",
       "      <td>0.322</td>\n",
       "    </tr>\n",
       "    <tr>\n",
       "      <th>39</th>\n",
       "      <td>40</td>\n",
       "      <td>0.709</td>\n",
       "      <td>0.338</td>\n",
       "      <td>0.721</td>\n",
       "      <td>0.328</td>\n",
       "    </tr>\n",
       "    <tr>\n",
       "      <th>40</th>\n",
       "      <td>41</td>\n",
       "      <td>0.729</td>\n",
       "      <td>0.319</td>\n",
       "      <td>0.722</td>\n",
       "      <td>0.326</td>\n",
       "    </tr>\n",
       "    <tr>\n",
       "      <th>41</th>\n",
       "      <td>42</td>\n",
       "      <td>0.694</td>\n",
       "      <td>0.350</td>\n",
       "      <td>0.723</td>\n",
       "      <td>0.329</td>\n",
       "    </tr>\n",
       "    <tr>\n",
       "      <th>42</th>\n",
       "      <td>43</td>\n",
       "      <td>0.719</td>\n",
       "      <td>0.331</td>\n",
       "      <td>0.725</td>\n",
       "      <td>0.323</td>\n",
       "    </tr>\n",
       "    <tr>\n",
       "      <th>43</th>\n",
       "      <td>44</td>\n",
       "      <td>0.731</td>\n",
       "      <td>0.315</td>\n",
       "      <td>0.692</td>\n",
       "      <td>0.354</td>\n",
       "    </tr>\n",
       "    <tr>\n",
       "      <th>44</th>\n",
       "      <td>45</td>\n",
       "      <td>0.721</td>\n",
       "      <td>0.328</td>\n",
       "      <td>0.705</td>\n",
       "      <td>0.338</td>\n",
       "    </tr>\n",
       "    <tr>\n",
       "      <th>45</th>\n",
       "      <td>46</td>\n",
       "      <td>0.720</td>\n",
       "      <td>0.331</td>\n",
       "      <td>0.727</td>\n",
       "      <td>0.324</td>\n",
       "    </tr>\n",
       "    <tr>\n",
       "      <th>46</th>\n",
       "      <td>47</td>\n",
       "      <td>0.729</td>\n",
       "      <td>0.320</td>\n",
       "      <td>0.721</td>\n",
       "      <td>0.331</td>\n",
       "    </tr>\n",
       "    <tr>\n",
       "      <th>47</th>\n",
       "      <td>48</td>\n",
       "      <td>0.697</td>\n",
       "      <td>0.348</td>\n",
       "      <td>0.693</td>\n",
       "      <td>0.356</td>\n",
       "    </tr>\n",
       "    <tr>\n",
       "      <th>48</th>\n",
       "      <td>49</td>\n",
       "      <td>0.714</td>\n",
       "      <td>0.330</td>\n",
       "      <td>0.695</td>\n",
       "      <td>0.348</td>\n",
       "    </tr>\n",
       "    <tr>\n",
       "      <th>49</th>\n",
       "      <td>50</td>\n",
       "      <td>0.705</td>\n",
       "      <td>0.342</td>\n",
       "      <td>0.708</td>\n",
       "      <td>0.335</td>\n",
       "    </tr>\n",
       "  </tbody>\n",
       "</table>\n",
       "</div>"
      ],
      "text/plain": [
       "    Epoch   Loss  Dice Metrics  Validation Loss  Validation Dice Metrics\n",
       "0       1  1.060         0.028            1.008                    0.032\n",
       "1       2  1.012         0.037            1.008                    0.046\n",
       "2       3  0.985         0.071            0.939                    0.113\n",
       "3       4  0.921         0.136            0.920                    0.138\n",
       "4       5  0.888         0.172            0.894                    0.163\n",
       "5       6  0.866         0.187            0.886                    0.175\n",
       "6       7  0.846         0.206            0.848                    0.202\n",
       "7       8  0.846         0.212            0.820                    0.231\n",
       "8       9  0.839         0.213            0.821                    0.230\n",
       "9      10  0.815         0.236            0.796                    0.258\n",
       "10     11  0.803         0.248            0.800                    0.256\n",
       "11     12  0.791         0.262            0.797                    0.257\n",
       "12     13  0.798         0.255            0.797                    0.260\n",
       "13     14  0.804         0.246            0.773                    0.273\n",
       "14     15  0.786         0.265            0.791                    0.253\n",
       "15     16  0.785         0.266            0.784                    0.269\n",
       "16     17  0.746         0.306            0.770                    0.280\n",
       "17     18  0.839         0.237            0.783                    0.264\n",
       "18     19  0.752         0.296            0.756                    0.297\n",
       "19     20  0.751         0.301            0.761                    0.287\n",
       "20     21  0.783         0.269            0.761                    0.287\n",
       "21     22  0.746         0.302            0.769                    0.307\n",
       "22     23  0.838         0.274            0.774                    0.278\n",
       "23     24  0.769         0.279            0.758                    0.301\n",
       "24     25  0.797         0.256            0.748                    0.300\n",
       "25     26  0.757         0.290            0.746                    0.305\n",
       "26     27  0.736         0.314            0.744                    0.311\n",
       "27     28  0.724         0.326            0.741                    0.311\n",
       "28     29  0.760         0.292            0.741                    0.306\n",
       "29     30  0.755         0.296            0.732                    0.315\n",
       "30     31  0.769         0.280            0.733                    0.318\n",
       "31     32  0.754         0.296            0.750                    0.298\n",
       "32     33  0.732         0.315            0.743                    0.306\n",
       "33     34  0.718         0.331            0.723                    0.326\n",
       "34     35  0.738         0.314            0.723                    0.325\n",
       "35     36  0.726         0.321            0.723                    0.326\n",
       "36     37  0.735         0.310            0.726                    0.322\n",
       "37     38  0.718         0.332            0.721                    0.325\n",
       "38     39  0.720         0.328            0.722                    0.322\n",
       "39     40  0.709         0.338            0.721                    0.328\n",
       "40     41  0.729         0.319            0.722                    0.326\n",
       "41     42  0.694         0.350            0.723                    0.329\n",
       "42     43  0.719         0.331            0.725                    0.323\n",
       "43     44  0.731         0.315            0.692                    0.354\n",
       "44     45  0.721         0.328            0.705                    0.338\n",
       "45     46  0.720         0.331            0.727                    0.324\n",
       "46     47  0.729         0.320            0.721                    0.331\n",
       "47     48  0.697         0.348            0.693                    0.356\n",
       "48     49  0.714         0.330            0.695                    0.348\n",
       "49     50  0.705         0.342            0.708                    0.335"
      ]
     },
     "execution_count": 123,
     "metadata": {
      "tags": []
     },
     "output_type": "execute_result"
    }
   ],
   "source": [
    "results_output"
   ]
  },
  {
   "cell_type": "code",
   "execution_count": 0,
   "metadata": {
    "colab": {},
    "colab_type": "code",
    "id": "Pb2XdJ1iMCzU"
   },
   "outputs": [],
   "source": [
    "results_output.to_csv(path + \"SDA_01_UNET_NoPretrain.csv\")"
   ]
  },
  {
   "cell_type": "markdown",
   "metadata": {
    "colab_type": "text",
    "id": "f7WR_T_h-_Yw"
   },
   "source": []
  },
  {
   "cell_type": "code",
   "execution_count": 0,
   "metadata": {
    "colab": {},
    "colab_type": "code",
    "id": "ujvIyFe2MXc6"
   },
   "outputs": [],
   "source": []
  }
 ],
 "metadata": {
  "accelerator": "GPU",
  "colab": {
   "collapsed_sections": [],
   "name": "SDA_UNET_NoPretrain_Code.ipynb",
   "provenance": []
  },
  "kernelspec": {
   "display_name": "Python 3",
   "language": "python",
   "name": "python3"
  },
  "language_info": {
   "codemirror_mode": {
    "name": "ipython",
    "version": 3
   },
   "file_extension": ".py",
   "mimetype": "text/x-python",
   "name": "python",
   "nbconvert_exporter": "python",
   "pygments_lexer": "ipython3",
   "version": "3.7.3"
  }
 },
 "nbformat": 4,
 "nbformat_minor": 1
}
