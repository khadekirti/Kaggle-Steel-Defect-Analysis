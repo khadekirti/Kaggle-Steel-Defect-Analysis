{
 "cells": [
  {
   "cell_type": "code",
   "execution_count": 1,
   "metadata": {
    "colab": {
     "base_uri": "https://localhost:8080/",
     "height": 80
    },
    "colab_type": "code",
    "id": "QnWucCr3xI1L",
    "outputId": "8da40e93-8ded-4e63-9162-46735ff5afd2"
   },
   "outputs": [
    {
     "name": "stderr",
     "output_type": "stream",
     "text": [
      "Using TensorFlow backend.\n"
     ]
    },
    {
     "data": {
      "text/html": [
       "<p style=\"color: red;\">\n",
       "The default version of TensorFlow in Colab will soon switch to TensorFlow 2.x.<br>\n",
       "We recommend you <a href=\"https://www.tensorflow.org/guide/migrate\" target=\"_blank\">upgrade</a> now \n",
       "or ensure your notebook will continue to use TensorFlow 1.x via the <code>%tensorflow_version 1.x</code> magic:\n",
       "<a href=\"https://colab.research.google.com/notebooks/tensorflow_version.ipynb\" target=\"_blank\">more info</a>.</p>\n"
      ],
      "text/plain": [
       "<IPython.core.display.HTML object>"
      ]
     },
     "metadata": {
      "tags": []
     },
     "output_type": "display_data"
    }
   ],
   "source": [
    "import numpy as np\n",
    "import matplotlib.pyplot as plt\n",
    "import pandas as pd\n",
    "import os\n",
    "from tqdm import tqdm_notebook\n",
    "import cv2\n",
    "\n",
    "import keras\n",
    "from keras.layers.convolutional import Conv2DTranspose\n",
    "from keras.layers.merge import concatenate\n",
    "from keras.layers import UpSampling2D, Conv2D, Activation, Input, Dropout, MaxPooling2D\n",
    "from keras import Model\n",
    "from keras import backend as K\n",
    "from keras.layers.core import Lambda\n",
    "from collections import defaultdict\n",
    "from sklearn.model_selection import train_test_split\n",
    "import pandas as pd\n",
    "import random\n",
    "\n",
    "import tensorflow as tf\n"
   ]
  },
  {
   "cell_type": "code",
   "execution_count": 0,
   "metadata": {
    "colab": {},
    "colab_type": "code",
    "id": "dYBcuA049qIK"
   },
   "outputs": [],
   "source": [
    "from tensorflow.keras.losses import binary_crossentropy\n",
    "from sklearn.model_selection import train_test_split"
   ]
  },
  {
   "cell_type": "markdown",
   "metadata": {
    "colab_type": "text",
    "id": "KAYxLwD7jrXS"
   },
   "source": [
    "# Get Data"
   ]
  },
  {
   "cell_type": "code",
   "execution_count": 3,
   "metadata": {
    "colab": {
     "base_uri": "https://localhost:8080/",
     "height": 122
    },
    "colab_type": "code",
    "id": "EIdmIg3axOXi",
    "outputId": "f7202200-8de0-404d-9cdb-3471e2b15942"
   },
   "outputs": [
    {
     "name": "stdout",
     "output_type": "stream",
     "text": [
      "Go to this URL in a browser: https://accounts.google.com/o/oauth2/auth?client_id=947318989803-6bn6qk8qdgf4n4g3pfee6491hc0brc4i.apps.googleusercontent.com&redirect_uri=urn%3Aietf%3Awg%3Aoauth%3A2.0%3Aoob&scope=email%20https%3A%2F%2Fwww.googleapis.com%2Fauth%2Fdocs.test%20https%3A%2F%2Fwww.googleapis.com%2Fauth%2Fdrive%20https%3A%2F%2Fwww.googleapis.com%2Fauth%2Fdrive.photos.readonly%20https%3A%2F%2Fwww.googleapis.com%2Fauth%2Fpeopleapi.readonly&response_type=code\n",
      "\n",
      "Enter your authorization code:\n",
      "··········\n",
      "Mounted at /content/drive/\n"
     ]
    }
   ],
   "source": [
    "# Load the Drive helper and mount\n",
    "from google.colab import drive\n",
    "\n",
    "# This will prompt for authorization.\n",
    "drive.mount('/content/drive/')"
   ]
  },
  {
   "cell_type": "code",
   "execution_count": 0,
   "metadata": {
    "colab": {},
    "colab_type": "code",
    "id": "2-ps2d69xOdE"
   },
   "outputs": [],
   "source": [
    "path = '/content/drive/My Drive/project/data_main/'"
   ]
  },
  {
   "cell_type": "code",
   "execution_count": 0,
   "metadata": {
    "colab": {},
    "colab_type": "code",
    "id": "cdCDkv7If6Oj"
   },
   "outputs": [],
   "source": [
    "train_img = path + \"train_images\""
   ]
  },
  {
   "cell_type": "code",
   "execution_count": 10,
   "metadata": {
    "colab": {
     "base_uri": "https://localhost:8080/",
     "height": 34
    },
    "colab_type": "code",
    "id": "a7ZTUqjxxMn5",
    "outputId": "cdd20989-93a3-42b1-b2a6-882f83debd6c"
   },
   "outputs": [
    {
     "name": "stdout",
     "output_type": "stream",
     "text": [
      "Length of train data 50272\n"
     ]
    }
   ],
   "source": [
    "train_data  = pd.read_csv(path + '/train.csv')\n",
    "print(\"Length of train data\", len(train_data))"
   ]
  },
  {
   "cell_type": "code",
   "execution_count": 0,
   "metadata": {
    "colab": {},
    "colab_type": "code",
    "id": "E5rWaNN2eJTc"
   },
   "outputs": [],
   "source": [
    "# Pivot the data\n",
    "df = pd.read_csv(path + '/train.csv')\n",
    "df['ImageId'], df['ClassId'] = zip(*df['ImageId_ClassId'].str.split('_'))\n",
    "df['ClassId'] = df['ClassId'].astype(int)\n",
    "df = df.pivot(index='ImageId',columns='ClassId',values='EncodedPixels')\n",
    "df['defects'] = df.count(axis=1)\n",
    "# Divide the data \n",
    "train_df, val_df = train_test_split(df, test_size=0.2, stratify=df[\"defects\"], random_state=69) "
   ]
  },
  {
   "cell_type": "code",
   "execution_count": 0,
   "metadata": {
    "colab": {},
    "colab_type": "code",
    "id": "lA_bPmgGlJOB"
   },
   "outputs": [],
   "source": [
    "train_df = train_df.reset_index()\n",
    "train_df = train_df.reset_index()\n",
    "\n",
    "val_df = val_df.reset_index()\n",
    "val_df = val_df.reset_index()\n",
    " "
   ]
  },
  {
   "cell_type": "code",
   "execution_count": 13,
   "metadata": {
    "colab": {
     "base_uri": "https://localhost:8080/",
     "height": 51
    },
    "colab_type": "code",
    "id": "GILMpUtXxjro",
    "outputId": "dbc4621b-feee-4cf8-e7c0-1005efe3fdce"
   },
   "outputs": [
    {
     "name": "stdout",
     "output_type": "stream",
     "text": [
      "Lenght of training data  10054\n",
      "Lenght of validation data  2514\n"
     ]
    }
   ],
   "source": [
    "# For class imbalance, we need to use the data witout nulls.\n",
    "df_no_null = train_data[train_data['EncodedPixels'].notnull()].reset_index(drop=True)\n",
    " \n",
    "print(\"Lenght of training data \" , len(train_df))\n",
    "print(\"Lenght of validation data \" , len(val_df))"
   ]
  },
  {
   "cell_type": "markdown",
   "metadata": {
    "colab_type": "text",
    "id": "nJSq6RbkkiOZ"
   },
   "source": [
    "\n",
    "# Pre-process data"
   ]
  },
  {
   "cell_type": "code",
   "execution_count": 0,
   "metadata": {
    "colab": {},
    "colab_type": "code",
    "id": "Dkc70VFPeBYg"
   },
   "outputs": [],
   "source": [
    "def mask2rle(img):\n",
    "    '''\n",
    "    For an ouput numpy array\n",
    "    1  == Mask, \n",
    "    0  == background\n",
    "    Returns run length as string formated\n",
    "    '''\n",
    "    pixels= img.T.flatten()\n",
    "    pixels = np.concatenate([[0], pixels, [0]])\n",
    "    runs = np.where(pixels[1:] != pixels[:-1])[0] + 1\n",
    "    runs[1::2] -= runs[::2]\n",
    "    return ' '.join(str(x) for x in runs)"
   ]
  },
  {
   "cell_type": "code",
   "execution_count": 0,
   "metadata": {
    "colab": {},
    "colab_type": "code",
    "id": "GSfFVYAGeDBa"
   },
   "outputs": [],
   "source": [
    "\n",
    "def make_mask(row_id, df):\n",
    "    '''\n",
    "    Given a row index, \n",
    "    return a image id and mask of the image in the format of (256, 1600, 4)\n",
    "    from the dataframe `df`\n",
    "    '''\n",
    "\n",
    "    masks = np.zeros((256, 1600, 4), dtype=np.float32)     \n",
    "    labels = df.iloc[row_id][2:-1]\n",
    "    for idx, label in enumerate(labels.values):\n",
    "        if label is not np.nan:\n",
    "            label = label.split(\" \")\n",
    "            positions = map(int, label[0::2])\n",
    "            length = map(int, label[1::2])\n",
    "            mask = np.zeros(256 * 1600, dtype=np.uint8)\n",
    "            for pos, le in zip(positions, length):\n",
    "                mask[pos:(pos + le)] = 1\n",
    "            masks[:, :, idx] = mask.reshape(256, 1600, order='F')\n",
    "    return masks"
   ]
  },
  {
   "cell_type": "code",
   "execution_count": 0,
   "metadata": {
    "colab": {},
    "colab_type": "code",
    "id": "yxm1sIylu5YJ"
   },
   "outputs": [],
   "source": [
    "class DataGenerator(tf.keras.utils.Sequence):\n",
    "    def __init__(self, df, image_dir, batch_size=16,\n",
    "                 img_h=256, img_w=256, shuffle=True):\n",
    "        \n",
    "        self.df = df\n",
    "        self.image_dir = image_dir\n",
    "        self.batch_size = batch_size\n",
    "        self.img_h = img_h\n",
    "        self.img_w = img_w\n",
    "        self.shuffle = shuffle\n",
    "        self.on_epoch_end()\n",
    "    \n",
    "    def __len__(self):\n",
    "        'denotes the number of batches per epoch'\n",
    "        return int(np.floor(len(self.df)) / self.batch_size)\n",
    "    \n",
    "    def __getitem__(self, index):\n",
    "        'generate one batch of data'\n",
    "        indexes = self.indexes[index*self.batch_size:(index+1)*self.batch_size]\n",
    "        # get list of IDs\n",
    "        list_ids_temp = indexes\n",
    "        # generate data\n",
    "        X, y = self.__data_generation(list_ids_temp)\n",
    "        # return data \n",
    "        return X, y\n",
    "    \n",
    "    def on_epoch_end(self):\n",
    "        'update ended after each epoch'\n",
    "        self.indexes = np.arange(len(self.df))\n",
    "        if self.shuffle:\n",
    "            np.random.shuffle(self.indexes)\n",
    "            \n",
    "    def __data_generation(self, list_ids_temp):\n",
    "      img_size = 256\n",
    "      x_batch = []\n",
    "      y_batch = []\n",
    "      for id in list_ids_temp: \n",
    "          # Get the image\n",
    "          image_name = self.df['ImageId'].iloc[id]\n",
    "          image = cv2.imread(self.image_dir  + 'train_images/'+image_name)\n",
    "          image = cv2.cvtColor(image, cv2.COLOR_BGR2RGB) \n",
    "          # Get the mask \n",
    "          mask = make_mask(id, self.df)\n",
    "          # Resize \n",
    "          image = cv2.resize(image, (img_size, img_size))\n",
    "          mask = cv2.resize(mask, (img_size, img_size))\n",
    "          # Add \n",
    "          x_batch += [image]\n",
    "          y_batch += [mask]\n",
    "      # Change to numpy                   \n",
    "      x_batch = np.array(x_batch)\n",
    "      y_batch = np.array(y_batch)\n",
    "      return x_batch, y_batch"
   ]
  },
  {
   "cell_type": "code",
   "execution_count": 0,
   "metadata": {
    "colab": {},
    "colab_type": "code",
    "id": "RxRV-EBJS5_x"
   },
   "outputs": [],
   "source": [
    "training_generator = DataGenerator(train_df, path)"
   ]
  },
  {
   "cell_type": "code",
   "execution_count": 0,
   "metadata": {
    "colab": {},
    "colab_type": "code",
    "id": "HSJdPbzrVMuR"
   },
   "outputs": [],
   "source": [
    "validation_generator = DataGenerator(val_df, path) "
   ]
  },
  {
   "cell_type": "code",
   "execution_count": 0,
   "metadata": {
    "colab": {},
    "colab_type": "code",
    "id": "HatOeyxnuCQP"
   },
   "outputs": [],
   "source": [
    "def class_imbalance(df): \n",
    "  '''\n",
    "  To treat for class imbalance, we will be using this function\n",
    "  '''\n",
    "  # Get the data, arrange it in classes \n",
    "  df['ImageId'], df['ClassId'] = zip(*df['ImageId_ClassId'].str.split('_'))\n",
    "  df['ClassId'] = df['ClassId'].astype(int)\n",
    "  df = df.pivot(index='ImageId',columns='ClassId',values='EncodedPixels')\n",
    "  df['defects'] = df.count(axis=1) \n",
    "  # Get the number of mask in each class \n",
    "  list_all = list(df.count())[: -1]\n",
    "  sum_list_all = sum(list_all) \n",
    "  return [list_all[i]/sum_list_all * 4  for i in range(len(list_all))] "
   ]
  },
  {
   "cell_type": "markdown",
   "metadata": {
    "colab_type": "text",
    "id": "i5LImQoevais"
   },
   "source": [
    "# Model"
   ]
  },
  {
   "cell_type": "code",
   "execution_count": 0,
   "metadata": {
    "colab": {},
    "colab_type": "code",
    "id": "TT5Z0H_by_1-"
   },
   "outputs": [],
   "source": [
    "def dsc(y_true, y_pred, smooth=1):\n",
    "    '''\n",
    "    Get the dice coefficiant of two oututs \n",
    "    '''\n",
    "    y_true_f = K.flatten(y_true)\n",
    "    y_pred_f = K.flatten(y_pred)\n",
    "    intersection = K.sum(y_true_f * y_pred_f)\n",
    "    return (2. * intersection + smooth) / (K.sum(y_true_f) + K.sum(y_pred_f) + smooth) \n",
    "  \n",
    "def dice_loss(y_true, y_pred):\n",
    "    '''\n",
    "    Get the loss \n",
    "    '''\n",
    "    loss = 1 - dsc(y_true, y_pred)\n",
    "    return loss\n",
    "\n",
    "def bce_dice_loss(y_true, y_pred):\n",
    "    '''\n",
    "    Get the loss\n",
    "    '''\n",
    "    loss = binary_crossentropy(y_true, y_pred) + dice_loss(y_true, y_pred)\n",
    "    return loss  "
   ]
  },
  {
   "cell_type": "code",
   "execution_count": 21,
   "metadata": {
    "colab": {
     "base_uri": "https://localhost:8080/",
     "height": 326
    },
    "colab_type": "code",
    "id": "h-fZGK2ayO5o",
    "outputId": "49d97b80-50f2-468f-b628-ec5e20ef8daa"
   },
   "outputs": [
    {
     "name": "stdout",
     "output_type": "stream",
     "text": [
      "WARNING:tensorflow:From /usr/local/lib/python3.6/dist-packages/keras/backend/tensorflow_backend.py:66: The name tf.get_default_graph is deprecated. Please use tf.compat.v1.get_default_graph instead.\n",
      "\n",
      "WARNING:tensorflow:From /usr/local/lib/python3.6/dist-packages/keras/backend/tensorflow_backend.py:541: The name tf.placeholder is deprecated. Please use tf.compat.v1.placeholder instead.\n",
      "\n",
      "WARNING:tensorflow:From /usr/local/lib/python3.6/dist-packages/keras/backend/tensorflow_backend.py:4432: The name tf.random_uniform is deprecated. Please use tf.random.uniform instead.\n",
      "\n",
      "WARNING:tensorflow:From /usr/local/lib/python3.6/dist-packages/keras/backend/tensorflow_backend.py:4267: The name tf.nn.max_pool is deprecated. Please use tf.nn.max_pool2d instead.\n",
      "\n",
      "WARNING:tensorflow:From /usr/local/lib/python3.6/dist-packages/keras/backend/tensorflow_backend.py:2241: The name tf.image.resize_bilinear is deprecated. Please use tf.compat.v1.image.resize_bilinear instead.\n",
      "\n",
      "WARNING:tensorflow:From /usr/local/lib/python3.6/dist-packages/keras/optimizers.py:793: The name tf.train.Optimizer is deprecated. Please use tf.compat.v1.train.Optimizer instead.\n",
      "\n",
      "WARNING:tensorflow:From /usr/local/lib/python3.6/dist-packages/tensorflow_core/python/ops/nn_impl.py:183: where (from tensorflow.python.ops.array_ops) is deprecated and will be removed in a future version.\n",
      "Instructions for updating:\n",
      "Use tf.where in 2.0, which has the same broadcast rule as np.where\n"
     ]
    },
    {
     "name": "stderr",
     "output_type": "stream",
     "text": [
      "/usr/local/lib/python3.6/dist-packages/ipykernel_launcher.py:8: UserWarning: Update your `Model` call to the Keras 2 API: `Model(inputs=Tensor(\"in..., outputs=Tensor(\"ac...)`\n",
      "  \n"
     ]
    }
   ],
   "source": [
    "from keras.applications.vgg16 import VGG16\n",
    "base_model = VGG16(weights=None, input_shape=(256,256,3), include_top=False)\n",
    "base_model.trainable = True\n",
    "base_out = base_model.output\n",
    "up = UpSampling2D(32, interpolation='bilinear')(base_out)\n",
    "conv = Conv2D(4, (1, 1))(up)\n",
    "conv = Activation('sigmoid')(conv)\n",
    "model = Model(input=base_model.input, output=conv)\n",
    "model.compile(optimizer='adam', loss=bce_dice_loss, metrics = [dsc])\n",
    " "
   ]
  },
  {
   "cell_type": "markdown",
   "metadata": {
    "colab_type": "text",
    "id": "JrYfJZsbvsqP"
   },
   "source": [
    "# Test & Train"
   ]
  },
  {
   "cell_type": "code",
   "execution_count": 0,
   "metadata": {
    "colab": {},
    "colab_type": "code",
    "id": "Gui3Ch8zLwRS"
   },
   "outputs": [],
   "source": [
    "from keras.callbacks import EarlyStopping, ModelCheckpoint\n",
    "checkpoint = ModelCheckpoint(path + 'model_best_weights_vgg_nfrozen.h5', monitor='loss', verbose=1, save_best_only=False, mode='min', period=1) "
   ]
  },
  {
   "cell_type": "code",
   "execution_count": 23,
   "metadata": {
    "colab": {
     "base_uri": "https://localhost:8080/",
     "height": 1000
    },
    "colab_type": "code",
    "id": "knAuRzwDw9hl",
    "outputId": "76f2bc6c-193c-4316-c75d-a5bdc27bb4d6"
   },
   "outputs": [
    {
     "name": "stdout",
     "output_type": "stream",
     "text": [
      "WARNING:tensorflow:From /usr/local/lib/python3.6/dist-packages/keras/backend/tensorflow_backend.py:1033: The name tf.assign_add is deprecated. Please use tf.compat.v1.assign_add instead.\n",
      "\n",
      "WARNING:tensorflow:From /usr/local/lib/python3.6/dist-packages/keras/backend/tensorflow_backend.py:1020: The name tf.assign is deprecated. Please use tf.compat.v1.assign instead.\n",
      "\n",
      "WARNING:tensorflow:From /usr/local/lib/python3.6/dist-packages/keras/backend/tensorflow_backend.py:3005: The name tf.Session is deprecated. Please use tf.compat.v1.Session instead.\n",
      "\n",
      "Epoch 1/50\n",
      "WARNING:tensorflow:From /usr/local/lib/python3.6/dist-packages/keras/backend/tensorflow_backend.py:190: The name tf.get_default_session is deprecated. Please use tf.compat.v1.get_default_session instead.\n",
      "\n",
      "WARNING:tensorflow:From /usr/local/lib/python3.6/dist-packages/keras/backend/tensorflow_backend.py:197: The name tf.ConfigProto is deprecated. Please use tf.compat.v1.ConfigProto instead.\n",
      "\n",
      "WARNING:tensorflow:From /usr/local/lib/python3.6/dist-packages/keras/backend/tensorflow_backend.py:207: The name tf.global_variables is deprecated. Please use tf.compat.v1.global_variables instead.\n",
      "\n",
      "WARNING:tensorflow:From /usr/local/lib/python3.6/dist-packages/keras/backend/tensorflow_backend.py:216: The name tf.is_variable_initialized is deprecated. Please use tf.compat.v1.is_variable_initialized instead.\n",
      "\n",
      "WARNING:tensorflow:From /usr/local/lib/python3.6/dist-packages/keras/backend/tensorflow_backend.py:223: The name tf.variables_initializer is deprecated. Please use tf.compat.v1.variables_initializer instead.\n",
      "\n",
      "100/100 [==============================] - 1493s 15s/step - loss: 1.1174 - dsc: 0.0337 - val_loss: 1.0062 - val_dsc: 0.0326\n",
      "\n",
      "Epoch 00001: saving model to /content/drive/My Drive/project/data_main/model_best_weights_vgg_nfrozen.h5\n",
      "Epoch 2/50\n",
      "100/100 [==============================] - 597s 6s/step - loss: 1.0559 - dsc: 0.0385 - val_loss: 1.0037 - val_dsc: 0.0450\n",
      "\n",
      "Epoch 00002: saving model to /content/drive/My Drive/project/data_main/model_best_weights_vgg_nfrozen.h5\n",
      "Epoch 3/50\n",
      "100/100 [==============================] - 627s 6s/step - loss: 1.0070 - dsc: 0.0401 - val_loss: 0.9972 - val_dsc: 0.0455\n",
      "\n",
      "Epoch 00003: saving model to /content/drive/My Drive/project/data_main/model_best_weights_vgg_nfrozen.h5\n",
      "Epoch 4/50\n",
      "100/100 [==============================] - 610s 6s/step - loss: 1.0056 - dsc: 0.0512 - val_loss: 1.0049 - val_dsc: 0.0449\n",
      "\n",
      "Epoch 00004: saving model to /content/drive/My Drive/project/data_main/model_best_weights_vgg_nfrozen.h5\n",
      "Epoch 5/50\n",
      "100/100 [==============================] - 612s 6s/step - loss: 1.0146 - dsc: 0.0351 - val_loss: 0.9964 - val_dsc: 0.0514\n",
      "\n",
      "Epoch 00005: saving model to /content/drive/My Drive/project/data_main/model_best_weights_vgg_nfrozen.h5\n",
      "Epoch 6/50\n",
      "100/100 [==============================] - 619s 6s/step - loss: 1.0031 - dsc: 0.0457 - val_loss: 0.9797 - val_dsc: 0.0687\n",
      "\n",
      "Epoch 00006: saving model to /content/drive/My Drive/project/data_main/model_best_weights_vgg_nfrozen.h5\n",
      "Epoch 7/50\n",
      "100/100 [==============================] - 241s 2s/step - loss: 0.9910 - dsc: 0.0635 - val_loss: 0.9839 - val_dsc: 0.0722\n",
      "\n",
      "Epoch 00007: saving model to /content/drive/My Drive/project/data_main/model_best_weights_vgg_nfrozen.h5\n",
      "Epoch 8/50\n",
      "100/100 [==============================] - 159s 2s/step - loss: 0.9919 - dsc: 0.0638 - val_loss: 0.9705 - val_dsc: 0.0804\n",
      "\n",
      "Epoch 00008: saving model to /content/drive/My Drive/project/data_main/model_best_weights_vgg_nfrozen.h5\n",
      "Epoch 9/50\n",
      "100/100 [==============================] - 158s 2s/step - loss: 0.9650 - dsc: 0.0941 - val_loss: 0.9333 - val_dsc: 0.1267\n",
      "\n",
      "Epoch 00009: saving model to /content/drive/My Drive/project/data_main/model_best_weights_vgg_nfrozen.h5\n",
      "Epoch 10/50\n",
      "100/100 [==============================] - 160s 2s/step - loss: 0.9761 - dsc: 0.0783 - val_loss: 0.9686 - val_dsc: 0.0785\n",
      "\n",
      "Epoch 00010: saving model to /content/drive/My Drive/project/data_main/model_best_weights_vgg_nfrozen.h5\n",
      "Epoch 11/50\n",
      "100/100 [==============================] - 159s 2s/step - loss: 1.0023 - dsc: 0.0577 - val_loss: 0.9893 - val_dsc: 0.0686\n",
      "\n",
      "Epoch 00011: saving model to /content/drive/My Drive/project/data_main/model_best_weights_vgg_nfrozen.h5\n",
      "Epoch 12/50\n",
      "100/100 [==============================] - 159s 2s/step - loss: 0.9394 - dsc: 0.1196 - val_loss: 0.8848 - val_dsc: 0.1586\n",
      "\n",
      "Epoch 00012: saving model to /content/drive/My Drive/project/data_main/model_best_weights_vgg_nfrozen.h5\n",
      "Epoch 13/50\n",
      "100/100 [==============================] - 159s 2s/step - loss: 0.9920 - dsc: 0.0704 - val_loss: 1.0124 - val_dsc: 0.0378\n",
      "\n",
      "Epoch 00013: saving model to /content/drive/My Drive/project/data_main/model_best_weights_vgg_nfrozen.h5\n",
      "Epoch 14/50\n",
      "100/100 [==============================] - 158s 2s/step - loss: 1.0275 - dsc: 0.0401 - val_loss: 1.0060 - val_dsc: 0.0366\n",
      "\n",
      "Epoch 00014: saving model to /content/drive/My Drive/project/data_main/model_best_weights_vgg_nfrozen.h5\n",
      "Epoch 15/50\n",
      "100/100 [==============================] - 158s 2s/step - loss: 1.0080 - dsc: 0.0382 - val_loss: 1.0033 - val_dsc: 0.0403\n",
      "\n",
      "Epoch 00015: saving model to /content/drive/My Drive/project/data_main/model_best_weights_vgg_nfrozen.h5\n",
      "Epoch 16/50\n",
      "100/100 [==============================] - 158s 2s/step - loss: 1.0035 - dsc: 0.0431 - val_loss: 1.0014 - val_dsc: 0.0421\n",
      "\n",
      "Epoch 00016: saving model to /content/drive/My Drive/project/data_main/model_best_weights_vgg_nfrozen.h5\n",
      "Epoch 17/50\n",
      "100/100 [==============================] - 157s 2s/step - loss: 1.0135 - dsc: 0.0338 - val_loss: 1.0094 - val_dsc: 0.0332\n",
      "\n",
      "Epoch 00017: saving model to /content/drive/My Drive/project/data_main/model_best_weights_vgg_nfrozen.h5\n",
      "Epoch 18/50\n",
      "100/100 [==============================] - 157s 2s/step - loss: 1.0127 - dsc: 0.0348 - val_loss: 1.0092 - val_dsc: 0.0339\n",
      "\n",
      "Epoch 00018: saving model to /content/drive/My Drive/project/data_main/model_best_weights_vgg_nfrozen.h5\n",
      "Epoch 19/50\n",
      "100/100 [==============================] - 159s 2s/step - loss: 1.0136 - dsc: 0.0274 - val_loss: 1.0085 - val_dsc: 0.0374\n",
      "\n",
      "Epoch 00019: saving model to /content/drive/My Drive/project/data_main/model_best_weights_vgg_nfrozen.h5\n",
      "Epoch 20/50\n",
      "100/100 [==============================] - 159s 2s/step - loss: 1.0119 - dsc: 0.0334 - val_loss: 1.0109 - val_dsc: 0.0393\n",
      "\n",
      "Epoch 00020: saving model to /content/drive/My Drive/project/data_main/model_best_weights_vgg_nfrozen.h5\n",
      "Epoch 21/50\n",
      "100/100 [==============================] - 159s 2s/step - loss: 1.0101 - dsc: 0.0376 - val_loss: 1.0095 - val_dsc: 0.0327\n",
      "\n",
      "Epoch 00021: saving model to /content/drive/My Drive/project/data_main/model_best_weights_vgg_nfrozen.h5\n",
      "Epoch 22/50\n",
      "100/100 [==============================] - 159s 2s/step - loss: 1.0126 - dsc: 0.0325 - val_loss: 1.0088 - val_dsc: 0.0333\n",
      "\n",
      "Epoch 00022: saving model to /content/drive/My Drive/project/data_main/model_best_weights_vgg_nfrozen.h5\n",
      "Epoch 23/50\n",
      "100/100 [==============================] - 158s 2s/step - loss: 1.0086 - dsc: 0.0348 - val_loss: 1.0100 - val_dsc: 0.0316\n",
      "\n",
      "Epoch 00023: saving model to /content/drive/My Drive/project/data_main/model_best_weights_vgg_nfrozen.h5\n",
      "Epoch 24/50\n",
      "100/100 [==============================] - 159s 2s/step - loss: 1.0111 - dsc: 0.0337 - val_loss: 1.0096 - val_dsc: 0.0320\n",
      "\n",
      "Epoch 00024: saving model to /content/drive/My Drive/project/data_main/model_best_weights_vgg_nfrozen.h5\n",
      "Epoch 25/50\n",
      "100/100 [==============================] - 157s 2s/step - loss: 1.0111 - dsc: 0.0402 - val_loss: 1.0100 - val_dsc: 0.0409\n",
      "\n",
      "Epoch 00025: saving model to /content/drive/My Drive/project/data_main/model_best_weights_vgg_nfrozen.h5\n",
      "Epoch 26/50\n",
      "100/100 [==============================] - 158s 2s/step - loss: 1.0103 - dsc: 0.0354 - val_loss: 1.0082 - val_dsc: 0.0372\n",
      "\n",
      "Epoch 00026: saving model to /content/drive/My Drive/project/data_main/model_best_weights_vgg_nfrozen.h5\n",
      "Epoch 27/50\n",
      "100/100 [==============================] - 158s 2s/step - loss: 1.0129 - dsc: 0.0320 - val_loss: 1.0089 - val_dsc: 0.0373\n",
      "\n",
      "Epoch 00027: saving model to /content/drive/My Drive/project/data_main/model_best_weights_vgg_nfrozen.h5\n",
      "Epoch 28/50\n",
      "100/100 [==============================] - 159s 2s/step - loss: 1.0137 - dsc: 0.0342 - val_loss: 1.0082 - val_dsc: 0.0377\n",
      "\n",
      "Epoch 00028: saving model to /content/drive/My Drive/project/data_main/model_best_weights_vgg_nfrozen.h5\n",
      "Epoch 29/50\n",
      "100/100 [==============================] - 157s 2s/step - loss: 1.0091 - dsc: 0.0360 - val_loss: 1.0080 - val_dsc: 0.0364\n",
      "\n",
      "Epoch 00029: saving model to /content/drive/My Drive/project/data_main/model_best_weights_vgg_nfrozen.h5\n",
      "Epoch 30/50\n",
      "100/100 [==============================] - 158s 2s/step - loss: 1.0109 - dsc: 0.0352 - val_loss: 1.0085 - val_dsc: 0.0344\n",
      "\n",
      "Epoch 00030: saving model to /content/drive/My Drive/project/data_main/model_best_weights_vgg_nfrozen.h5\n",
      "Epoch 31/50\n",
      "100/100 [==============================] - 158s 2s/step - loss: 1.0092 - dsc: 0.0392 - val_loss: 1.0081 - val_dsc: 0.0389\n",
      "\n",
      "Epoch 00031: saving model to /content/drive/My Drive/project/data_main/model_best_weights_vgg_nfrozen.h5\n",
      "Epoch 32/50\n",
      "100/100 [==============================] - 159s 2s/step - loss: 1.0066 - dsc: 0.0388 - val_loss: 1.0074 - val_dsc: 0.0383\n",
      "\n",
      "Epoch 00032: saving model to /content/drive/My Drive/project/data_main/model_best_weights_vgg_nfrozen.h5\n",
      "Epoch 33/50\n",
      "100/100 [==============================] - 159s 2s/step - loss: 1.0115 - dsc: 0.0358 - val_loss: 1.0084 - val_dsc: 0.0394\n",
      "\n",
      "Epoch 00033: saving model to /content/drive/My Drive/project/data_main/model_best_weights_vgg_nfrozen.h5\n",
      "Epoch 34/50\n",
      "100/100 [==============================] - 157s 2s/step - loss: 1.0086 - dsc: 0.0366 - val_loss: 1.0089 - val_dsc: 0.0335\n",
      "\n",
      "Epoch 00034: saving model to /content/drive/My Drive/project/data_main/model_best_weights_vgg_nfrozen.h5\n",
      "Epoch 35/50\n",
      "100/100 [==============================] - 159s 2s/step - loss: 1.0118 - dsc: 0.0379 - val_loss: 1.0082 - val_dsc: 0.0365\n",
      "\n",
      "Epoch 00035: saving model to /content/drive/My Drive/project/data_main/model_best_weights_vgg_nfrozen.h5\n",
      "Epoch 36/50\n",
      "100/100 [==============================] - 157s 2s/step - loss: 1.0099 - dsc: 0.0369 - val_loss: 1.0085 - val_dsc: 0.0385\n",
      "\n",
      "Epoch 00036: saving model to /content/drive/My Drive/project/data_main/model_best_weights_vgg_nfrozen.h5\n",
      "Epoch 37/50\n",
      "100/100 [==============================] - 159s 2s/step - loss: 1.0114 - dsc: 0.0355 - val_loss: 1.0083 - val_dsc: 0.0364\n",
      "\n",
      "Epoch 00037: saving model to /content/drive/My Drive/project/data_main/model_best_weights_vgg_nfrozen.h5\n",
      "Epoch 38/50\n",
      "100/100 [==============================] - 158s 2s/step - loss: 1.0119 - dsc: 0.0354 - val_loss: 1.0085 - val_dsc: 0.0359\n",
      "\n",
      "Epoch 00038: saving model to /content/drive/My Drive/project/data_main/model_best_weights_vgg_nfrozen.h5\n",
      "Epoch 39/50\n",
      "100/100 [==============================] - 158s 2s/step - loss: 1.0125 - dsc: 0.0351 - val_loss: 1.0090 - val_dsc: 0.0334\n",
      "\n",
      "Epoch 00039: saving model to /content/drive/My Drive/project/data_main/model_best_weights_vgg_nfrozen.h5\n",
      "Epoch 40/50\n",
      "100/100 [==============================] - 157s 2s/step - loss: 1.0087 - dsc: 0.0408 - val_loss: 1.0085 - val_dsc: 0.0349\n",
      "\n",
      "Epoch 00040: saving model to /content/drive/My Drive/project/data_main/model_best_weights_vgg_nfrozen.h5\n",
      "Epoch 41/50\n",
      "100/100 [==============================] - 157s 2s/step - loss: 1.0108 - dsc: 0.0360 - val_loss: 1.0094 - val_dsc: 0.0398\n",
      "\n",
      "Epoch 00041: saving model to /content/drive/My Drive/project/data_main/model_best_weights_vgg_nfrozen.h5\n",
      "Epoch 42/50\n",
      "100/100 [==============================] - 157s 2s/step - loss: 1.0108 - dsc: 0.0331 - val_loss: 1.0080 - val_dsc: 0.0361\n",
      "\n",
      "Epoch 00042: saving model to /content/drive/My Drive/project/data_main/model_best_weights_vgg_nfrozen.h5\n",
      "Epoch 43/50\n",
      "100/100 [==============================] - 158s 2s/step - loss: 1.0122 - dsc: 0.0328 - val_loss: 1.0086 - val_dsc: 0.0369\n",
      "\n",
      "Epoch 00043: saving model to /content/drive/My Drive/project/data_main/model_best_weights_vgg_nfrozen.h5\n",
      "Epoch 44/50\n",
      "100/100 [==============================] - 157s 2s/step - loss: 1.0078 - dsc: 0.0371 - val_loss: 1.0083 - val_dsc: 0.0399\n",
      "\n",
      "Epoch 00044: saving model to /content/drive/My Drive/project/data_main/model_best_weights_vgg_nfrozen.h5\n",
      "Epoch 45/50\n",
      "100/100 [==============================] - 158s 2s/step - loss: 1.0110 - dsc: 0.0387 - val_loss: 1.0094 - val_dsc: 0.0384\n",
      "\n",
      "Epoch 00045: saving model to /content/drive/My Drive/project/data_main/model_best_weights_vgg_nfrozen.h5\n",
      "Epoch 46/50\n",
      "100/100 [==============================] - 159s 2s/step - loss: 1.0117 - dsc: 0.0387 - val_loss: 1.0084 - val_dsc: 0.0352\n",
      "\n",
      "Epoch 00046: saving model to /content/drive/My Drive/project/data_main/model_best_weights_vgg_nfrozen.h5\n",
      "Epoch 47/50\n",
      "100/100 [==============================] - 158s 2s/step - loss: 1.0094 - dsc: 0.0359 - val_loss: 1.0081 - val_dsc: 0.0371\n",
      "\n",
      "Epoch 00047: saving model to /content/drive/My Drive/project/data_main/model_best_weights_vgg_nfrozen.h5\n",
      "Epoch 48/50\n",
      "100/100 [==============================] - 159s 2s/step - loss: 1.0100 - dsc: 0.0364 - val_loss: 1.0079 - val_dsc: 0.0378\n",
      "\n",
      "Epoch 00048: saving model to /content/drive/My Drive/project/data_main/model_best_weights_vgg_nfrozen.h5\n",
      "Epoch 49/50\n",
      "100/100 [==============================] - 158s 2s/step - loss: 1.0115 - dsc: 0.0333 - val_loss: 1.0094 - val_dsc: 0.0325\n",
      "\n",
      "Epoch 00049: saving model to /content/drive/My Drive/project/data_main/model_best_weights_vgg_nfrozen.h5\n",
      "Epoch 50/50\n",
      "100/100 [==============================] - 159s 2s/step - loss: 1.0098 - dsc: 0.0352 - val_loss: 1.0099 - val_dsc: 0.0316\n",
      "\n",
      "Epoch 00050: saving model to /content/drive/My Drive/project/data_main/model_best_weights_vgg_nfrozen.h5\n"
     ]
    }
   ],
   "source": [
    "batch_size = 16\n",
    "results = model.fit_generator(generator=training_generator, \n",
    "                              validation_data=validation_generator,\n",
    "                              class_weight=class_imbalance(df_no_null),  \n",
    "                              steps_per_epoch= 100,\n",
    "                              epochs=50, callbacks = [checkpoint],) "
   ]
  },
  {
   "cell_type": "markdown",
   "metadata": {
    "colab_type": "text",
    "id": "KgzbEqTiNwYw"
   },
   "source": [
    "# Output & Visulisation"
   ]
  },
  {
   "cell_type": "code",
   "execution_count": 0,
   "metadata": {
    "colab": {},
    "colab_type": "code",
    "id": "J0224cjCJHEl"
   },
   "outputs": [],
   "source": [
    "history = results\n"
   ]
  },
  {
   "cell_type": "code",
   "execution_count": 25,
   "metadata": {
    "colab": {
     "base_uri": "https://localhost:8080/",
     "height": 312
    },
    "colab_type": "code",
    "id": "16rNgXjSIN1k",
    "outputId": "45e278c4-953a-4b42-c522-d80a9c048d42"
   },
   "outputs": [
    {
     "name": "stdout",
     "output_type": "stream",
     "text": [
      "dict_keys(['val_loss', 'val_dsc', 'loss', 'dsc'])\n"
     ]
    },
    {
     "data": {
      "image/png": "[encoded data removed]",
      "text/plain": [
       "<Figure size 432x288 with 1 Axes>"
      ]
     },
     "metadata": {
      "tags": []
     },
     "output_type": "display_data"
    }
   ],
   "source": [
    "import matplotlib.pyplot as plt\n",
    "\n",
    "# list all data in history\n",
    "print(history.history.keys())\n",
    "# summarize history for loss\n",
    "plt.plot(history.history['loss'])\n",
    "plt.plot(history.history['val_loss'])\n",
    "plt.title('Model Loss')\n",
    "plt.ylabel('loss')\n",
    "plt.xlabel('epoch')\n",
    "plt.legend(['train', 'test'], loc='upper left')\n",
    "plt.show()"
   ]
  },
  {
   "cell_type": "code",
   "execution_count": 26,
   "metadata": {
    "colab": {
     "base_uri": "https://localhost:8080/",
     "height": 312
    },
    "colab_type": "code",
    "id": "t4B0wvaNJ5vZ",
    "outputId": "51139f81-9a35-4cd5-a22c-351c43f3055f"
   },
   "outputs": [
    {
     "name": "stdout",
     "output_type": "stream",
     "text": [
      "dict_keys(['val_loss', 'val_dsc', 'loss', 'dsc'])\n"
     ]
    },
    {
     "data": {
      "image/png": "[encoded data removed]",
      "text/plain": [
       "<Figure size 432x288 with 1 Axes>"
      ]
     },
     "metadata": {
      "tags": []
     },
     "output_type": "display_data"
    }
   ],
   "source": [
    "import matplotlib.pyplot as plt\n",
    "\n",
    "# list all data in history\n",
    "print(history.history.keys())\n",
    "# summarize history for loss\n",
    "plt.plot(history.history['dsc'])\n",
    "plt.plot(history.history['val_dsc'])\n",
    "plt.title('Model Dice Metrics')\n",
    "plt.ylabel('dsc')\n",
    "plt.xlabel('epoch')\n",
    "plt.legend(['train', 'test'], loc='upper left')\n",
    "plt.show()"
   ]
  },
  {
   "cell_type": "code",
   "execution_count": 0,
   "metadata": {
    "colab": {},
    "colab_type": "code",
    "id": "PgjwHKjPKwls"
   },
   "outputs": [],
   "source": [
    "results_output = pd.DataFrame()"
   ]
  },
  {
   "cell_type": "code",
   "execution_count": 0,
   "metadata": {
    "colab": {},
    "colab_type": "code",
    "id": "Rz38Iq5VIqyo"
   },
   "outputs": [],
   "source": [
    "results_output[\"Epoch\"] = list(range(1,51))\n",
    "results_output['Loss'] = history.history['loss']\n",
    "results_output['Dice Metrics'] = history.history['dsc'] \n",
    "results_output['Validation Loss'] = history.history['val_loss'] \n",
    "results_output['Validation Dice Metrics'] = history.history['val_dsc'] \n"
   ]
  },
  {
   "cell_type": "code",
   "execution_count": 0,
   "metadata": {
    "colab": {},
    "colab_type": "code",
    "id": "AgX_-KedKFbm"
   },
   "outputs": [],
   "source": [
    "results_output  = results_output.round(3) "
   ]
  },
  {
   "cell_type": "code",
   "execution_count": 30,
   "metadata": {
    "colab": {
     "base_uri": "https://localhost:8080/",
     "height": 1000
    },
    "colab_type": "code",
    "id": "pSkt16Q8K61h",
    "outputId": "ee244444-fc7d-4033-da28-2a8c6c55ee8b"
   },
   "outputs": [
    {
     "data": {
      "text/html": [
       "<div>\n",
       "<style scoped>\n",
       "    .dataframe tbody tr th:only-of-type {\n",
       "        vertical-align: middle;\n",
       "    }\n",
       "\n",
       "    .dataframe tbody tr th {\n",
       "        vertical-align: top;\n",
       "    }\n",
       "\n",
       "    .dataframe thead th {\n",
       "        text-align: right;\n",
       "    }\n",
       "</style>\n",
       "<table border=\"1\" class=\"dataframe\">\n",
       "  <thead>\n",
       "    <tr style=\"text-align: right;\">\n",
       "      <th></th>\n",
       "      <th>Epoch</th>\n",
       "      <th>Loss</th>\n",
       "      <th>Dice Metrics</th>\n",
       "      <th>Validation Loss</th>\n",
       "      <th>Validation Dice Metrics</th>\n",
       "    </tr>\n",
       "  </thead>\n",
       "  <tbody>\n",
       "    <tr>\n",
       "      <th>0</th>\n",
       "      <td>1</td>\n",
       "      <td>1.117</td>\n",
       "      <td>0.034</td>\n",
       "      <td>1.006</td>\n",
       "      <td>0.033</td>\n",
       "    </tr>\n",
       "    <tr>\n",
       "      <th>1</th>\n",
       "      <td>2</td>\n",
       "      <td>1.056</td>\n",
       "      <td>0.038</td>\n",
       "      <td>1.004</td>\n",
       "      <td>0.045</td>\n",
       "    </tr>\n",
       "    <tr>\n",
       "      <th>2</th>\n",
       "      <td>3</td>\n",
       "      <td>1.007</td>\n",
       "      <td>0.040</td>\n",
       "      <td>0.997</td>\n",
       "      <td>0.045</td>\n",
       "    </tr>\n",
       "    <tr>\n",
       "      <th>3</th>\n",
       "      <td>4</td>\n",
       "      <td>1.006</td>\n",
       "      <td>0.051</td>\n",
       "      <td>1.005</td>\n",
       "      <td>0.045</td>\n",
       "    </tr>\n",
       "    <tr>\n",
       "      <th>4</th>\n",
       "      <td>5</td>\n",
       "      <td>1.015</td>\n",
       "      <td>0.035</td>\n",
       "      <td>0.996</td>\n",
       "      <td>0.051</td>\n",
       "    </tr>\n",
       "    <tr>\n",
       "      <th>5</th>\n",
       "      <td>6</td>\n",
       "      <td>1.003</td>\n",
       "      <td>0.046</td>\n",
       "      <td>0.980</td>\n",
       "      <td>0.069</td>\n",
       "    </tr>\n",
       "    <tr>\n",
       "      <th>6</th>\n",
       "      <td>7</td>\n",
       "      <td>0.991</td>\n",
       "      <td>0.064</td>\n",
       "      <td>0.984</td>\n",
       "      <td>0.072</td>\n",
       "    </tr>\n",
       "    <tr>\n",
       "      <th>7</th>\n",
       "      <td>8</td>\n",
       "      <td>0.992</td>\n",
       "      <td>0.064</td>\n",
       "      <td>0.970</td>\n",
       "      <td>0.080</td>\n",
       "    </tr>\n",
       "    <tr>\n",
       "      <th>8</th>\n",
       "      <td>9</td>\n",
       "      <td>0.965</td>\n",
       "      <td>0.094</td>\n",
       "      <td>0.933</td>\n",
       "      <td>0.127</td>\n",
       "    </tr>\n",
       "    <tr>\n",
       "      <th>9</th>\n",
       "      <td>10</td>\n",
       "      <td>0.976</td>\n",
       "      <td>0.078</td>\n",
       "      <td>0.969</td>\n",
       "      <td>0.079</td>\n",
       "    </tr>\n",
       "    <tr>\n",
       "      <th>10</th>\n",
       "      <td>11</td>\n",
       "      <td>1.002</td>\n",
       "      <td>0.058</td>\n",
       "      <td>0.989</td>\n",
       "      <td>0.069</td>\n",
       "    </tr>\n",
       "    <tr>\n",
       "      <th>11</th>\n",
       "      <td>12</td>\n",
       "      <td>0.939</td>\n",
       "      <td>0.120</td>\n",
       "      <td>0.885</td>\n",
       "      <td>0.159</td>\n",
       "    </tr>\n",
       "    <tr>\n",
       "      <th>12</th>\n",
       "      <td>13</td>\n",
       "      <td>0.992</td>\n",
       "      <td>0.070</td>\n",
       "      <td>1.012</td>\n",
       "      <td>0.038</td>\n",
       "    </tr>\n",
       "    <tr>\n",
       "      <th>13</th>\n",
       "      <td>14</td>\n",
       "      <td>1.028</td>\n",
       "      <td>0.040</td>\n",
       "      <td>1.006</td>\n",
       "      <td>0.037</td>\n",
       "    </tr>\n",
       "    <tr>\n",
       "      <th>14</th>\n",
       "      <td>15</td>\n",
       "      <td>1.008</td>\n",
       "      <td>0.038</td>\n",
       "      <td>1.003</td>\n",
       "      <td>0.040</td>\n",
       "    </tr>\n",
       "    <tr>\n",
       "      <th>15</th>\n",
       "      <td>16</td>\n",
       "      <td>1.004</td>\n",
       "      <td>0.043</td>\n",
       "      <td>1.001</td>\n",
       "      <td>0.042</td>\n",
       "    </tr>\n",
       "    <tr>\n",
       "      <th>16</th>\n",
       "      <td>17</td>\n",
       "      <td>1.013</td>\n",
       "      <td>0.034</td>\n",
       "      <td>1.009</td>\n",
       "      <td>0.033</td>\n",
       "    </tr>\n",
       "    <tr>\n",
       "      <th>17</th>\n",
       "      <td>18</td>\n",
       "      <td>1.013</td>\n",
       "      <td>0.035</td>\n",
       "      <td>1.009</td>\n",
       "      <td>0.034</td>\n",
       "    </tr>\n",
       "    <tr>\n",
       "      <th>18</th>\n",
       "      <td>19</td>\n",
       "      <td>1.014</td>\n",
       "      <td>0.027</td>\n",
       "      <td>1.008</td>\n",
       "      <td>0.037</td>\n",
       "    </tr>\n",
       "    <tr>\n",
       "      <th>19</th>\n",
       "      <td>20</td>\n",
       "      <td>1.012</td>\n",
       "      <td>0.033</td>\n",
       "      <td>1.011</td>\n",
       "      <td>0.039</td>\n",
       "    </tr>\n",
       "    <tr>\n",
       "      <th>20</th>\n",
       "      <td>21</td>\n",
       "      <td>1.010</td>\n",
       "      <td>0.038</td>\n",
       "      <td>1.010</td>\n",
       "      <td>0.033</td>\n",
       "    </tr>\n",
       "    <tr>\n",
       "      <th>21</th>\n",
       "      <td>22</td>\n",
       "      <td>1.013</td>\n",
       "      <td>0.032</td>\n",
       "      <td>1.009</td>\n",
       "      <td>0.033</td>\n",
       "    </tr>\n",
       "    <tr>\n",
       "      <th>22</th>\n",
       "      <td>23</td>\n",
       "      <td>1.009</td>\n",
       "      <td>0.035</td>\n",
       "      <td>1.010</td>\n",
       "      <td>0.032</td>\n",
       "    </tr>\n",
       "    <tr>\n",
       "      <th>23</th>\n",
       "      <td>24</td>\n",
       "      <td>1.011</td>\n",
       "      <td>0.034</td>\n",
       "      <td>1.010</td>\n",
       "      <td>0.032</td>\n",
       "    </tr>\n",
       "    <tr>\n",
       "      <th>24</th>\n",
       "      <td>25</td>\n",
       "      <td>1.011</td>\n",
       "      <td>0.040</td>\n",
       "      <td>1.010</td>\n",
       "      <td>0.041</td>\n",
       "    </tr>\n",
       "    <tr>\n",
       "      <th>25</th>\n",
       "      <td>26</td>\n",
       "      <td>1.010</td>\n",
       "      <td>0.035</td>\n",
       "      <td>1.008</td>\n",
       "      <td>0.037</td>\n",
       "    </tr>\n",
       "    <tr>\n",
       "      <th>26</th>\n",
       "      <td>27</td>\n",
       "      <td>1.013</td>\n",
       "      <td>0.032</td>\n",
       "      <td>1.009</td>\n",
       "      <td>0.037</td>\n",
       "    </tr>\n",
       "    <tr>\n",
       "      <th>27</th>\n",
       "      <td>28</td>\n",
       "      <td>1.014</td>\n",
       "      <td>0.034</td>\n",
       "      <td>1.008</td>\n",
       "      <td>0.038</td>\n",
       "    </tr>\n",
       "    <tr>\n",
       "      <th>28</th>\n",
       "      <td>29</td>\n",
       "      <td>1.009</td>\n",
       "      <td>0.036</td>\n",
       "      <td>1.008</td>\n",
       "      <td>0.036</td>\n",
       "    </tr>\n",
       "    <tr>\n",
       "      <th>29</th>\n",
       "      <td>30</td>\n",
       "      <td>1.011</td>\n",
       "      <td>0.035</td>\n",
       "      <td>1.009</td>\n",
       "      <td>0.034</td>\n",
       "    </tr>\n",
       "    <tr>\n",
       "      <th>30</th>\n",
       "      <td>31</td>\n",
       "      <td>1.009</td>\n",
       "      <td>0.039</td>\n",
       "      <td>1.008</td>\n",
       "      <td>0.039</td>\n",
       "    </tr>\n",
       "    <tr>\n",
       "      <th>31</th>\n",
       "      <td>32</td>\n",
       "      <td>1.007</td>\n",
       "      <td>0.039</td>\n",
       "      <td>1.007</td>\n",
       "      <td>0.038</td>\n",
       "    </tr>\n",
       "    <tr>\n",
       "      <th>32</th>\n",
       "      <td>33</td>\n",
       "      <td>1.011</td>\n",
       "      <td>0.036</td>\n",
       "      <td>1.008</td>\n",
       "      <td>0.039</td>\n",
       "    </tr>\n",
       "    <tr>\n",
       "      <th>33</th>\n",
       "      <td>34</td>\n",
       "      <td>1.009</td>\n",
       "      <td>0.037</td>\n",
       "      <td>1.009</td>\n",
       "      <td>0.033</td>\n",
       "    </tr>\n",
       "    <tr>\n",
       "      <th>34</th>\n",
       "      <td>35</td>\n",
       "      <td>1.012</td>\n",
       "      <td>0.038</td>\n",
       "      <td>1.008</td>\n",
       "      <td>0.037</td>\n",
       "    </tr>\n",
       "    <tr>\n",
       "      <th>35</th>\n",
       "      <td>36</td>\n",
       "      <td>1.010</td>\n",
       "      <td>0.037</td>\n",
       "      <td>1.008</td>\n",
       "      <td>0.038</td>\n",
       "    </tr>\n",
       "    <tr>\n",
       "      <th>36</th>\n",
       "      <td>37</td>\n",
       "      <td>1.011</td>\n",
       "      <td>0.036</td>\n",
       "      <td>1.008</td>\n",
       "      <td>0.036</td>\n",
       "    </tr>\n",
       "    <tr>\n",
       "      <th>37</th>\n",
       "      <td>38</td>\n",
       "      <td>1.012</td>\n",
       "      <td>0.035</td>\n",
       "      <td>1.009</td>\n",
       "      <td>0.036</td>\n",
       "    </tr>\n",
       "    <tr>\n",
       "      <th>38</th>\n",
       "      <td>39</td>\n",
       "      <td>1.013</td>\n",
       "      <td>0.035</td>\n",
       "      <td>1.009</td>\n",
       "      <td>0.033</td>\n",
       "    </tr>\n",
       "    <tr>\n",
       "      <th>39</th>\n",
       "      <td>40</td>\n",
       "      <td>1.009</td>\n",
       "      <td>0.041</td>\n",
       "      <td>1.009</td>\n",
       "      <td>0.035</td>\n",
       "    </tr>\n",
       "    <tr>\n",
       "      <th>40</th>\n",
       "      <td>41</td>\n",
       "      <td>1.011</td>\n",
       "      <td>0.036</td>\n",
       "      <td>1.009</td>\n",
       "      <td>0.040</td>\n",
       "    </tr>\n",
       "    <tr>\n",
       "      <th>41</th>\n",
       "      <td>42</td>\n",
       "      <td>1.011</td>\n",
       "      <td>0.033</td>\n",
       "      <td>1.008</td>\n",
       "      <td>0.036</td>\n",
       "    </tr>\n",
       "    <tr>\n",
       "      <th>42</th>\n",
       "      <td>43</td>\n",
       "      <td>1.012</td>\n",
       "      <td>0.033</td>\n",
       "      <td>1.009</td>\n",
       "      <td>0.037</td>\n",
       "    </tr>\n",
       "    <tr>\n",
       "      <th>43</th>\n",
       "      <td>44</td>\n",
       "      <td>1.008</td>\n",
       "      <td>0.037</td>\n",
       "      <td>1.008</td>\n",
       "      <td>0.040</td>\n",
       "    </tr>\n",
       "    <tr>\n",
       "      <th>44</th>\n",
       "      <td>45</td>\n",
       "      <td>1.011</td>\n",
       "      <td>0.039</td>\n",
       "      <td>1.009</td>\n",
       "      <td>0.038</td>\n",
       "    </tr>\n",
       "    <tr>\n",
       "      <th>45</th>\n",
       "      <td>46</td>\n",
       "      <td>1.012</td>\n",
       "      <td>0.039</td>\n",
       "      <td>1.008</td>\n",
       "      <td>0.035</td>\n",
       "    </tr>\n",
       "    <tr>\n",
       "      <th>46</th>\n",
       "      <td>47</td>\n",
       "      <td>1.009</td>\n",
       "      <td>0.036</td>\n",
       "      <td>1.008</td>\n",
       "      <td>0.037</td>\n",
       "    </tr>\n",
       "    <tr>\n",
       "      <th>47</th>\n",
       "      <td>48</td>\n",
       "      <td>1.010</td>\n",
       "      <td>0.036</td>\n",
       "      <td>1.008</td>\n",
       "      <td>0.038</td>\n",
       "    </tr>\n",
       "    <tr>\n",
       "      <th>48</th>\n",
       "      <td>49</td>\n",
       "      <td>1.011</td>\n",
       "      <td>0.033</td>\n",
       "      <td>1.009</td>\n",
       "      <td>0.032</td>\n",
       "    </tr>\n",
       "    <tr>\n",
       "      <th>49</th>\n",
       "      <td>50</td>\n",
       "      <td>1.010</td>\n",
       "      <td>0.035</td>\n",
       "      <td>1.010</td>\n",
       "      <td>0.032</td>\n",
       "    </tr>\n",
       "  </tbody>\n",
       "</table>\n",
       "</div>"
      ],
      "text/plain": [
       "    Epoch   Loss  Dice Metrics  Validation Loss  Validation Dice Metrics\n",
       "0       1  1.117         0.034            1.006                    0.033\n",
       "1       2  1.056         0.038            1.004                    0.045\n",
       "2       3  1.007         0.040            0.997                    0.045\n",
       "3       4  1.006         0.051            1.005                    0.045\n",
       "4       5  1.015         0.035            0.996                    0.051\n",
       "5       6  1.003         0.046            0.980                    0.069\n",
       "6       7  0.991         0.064            0.984                    0.072\n",
       "7       8  0.992         0.064            0.970                    0.080\n",
       "8       9  0.965         0.094            0.933                    0.127\n",
       "9      10  0.976         0.078            0.969                    0.079\n",
       "10     11  1.002         0.058            0.989                    0.069\n",
       "11     12  0.939         0.120            0.885                    0.159\n",
       "12     13  0.992         0.070            1.012                    0.038\n",
       "13     14  1.028         0.040            1.006                    0.037\n",
       "14     15  1.008         0.038            1.003                    0.040\n",
       "15     16  1.004         0.043            1.001                    0.042\n",
       "16     17  1.013         0.034            1.009                    0.033\n",
       "17     18  1.013         0.035            1.009                    0.034\n",
       "18     19  1.014         0.027            1.008                    0.037\n",
       "19     20  1.012         0.033            1.011                    0.039\n",
       "20     21  1.010         0.038            1.010                    0.033\n",
       "21     22  1.013         0.032            1.009                    0.033\n",
       "22     23  1.009         0.035            1.010                    0.032\n",
       "23     24  1.011         0.034            1.010                    0.032\n",
       "24     25  1.011         0.040            1.010                    0.041\n",
       "25     26  1.010         0.035            1.008                    0.037\n",
       "26     27  1.013         0.032            1.009                    0.037\n",
       "27     28  1.014         0.034            1.008                    0.038\n",
       "28     29  1.009         0.036            1.008                    0.036\n",
       "29     30  1.011         0.035            1.009                    0.034\n",
       "30     31  1.009         0.039            1.008                    0.039\n",
       "31     32  1.007         0.039            1.007                    0.038\n",
       "32     33  1.011         0.036            1.008                    0.039\n",
       "33     34  1.009         0.037            1.009                    0.033\n",
       "34     35  1.012         0.038            1.008                    0.037\n",
       "35     36  1.010         0.037            1.008                    0.038\n",
       "36     37  1.011         0.036            1.008                    0.036\n",
       "37     38  1.012         0.035            1.009                    0.036\n",
       "38     39  1.013         0.035            1.009                    0.033\n",
       "39     40  1.009         0.041            1.009                    0.035\n",
       "40     41  1.011         0.036            1.009                    0.040\n",
       "41     42  1.011         0.033            1.008                    0.036\n",
       "42     43  1.012         0.033            1.009                    0.037\n",
       "43     44  1.008         0.037            1.008                    0.040\n",
       "44     45  1.011         0.039            1.009                    0.038\n",
       "45     46  1.012         0.039            1.008                    0.035\n",
       "46     47  1.009         0.036            1.008                    0.037\n",
       "47     48  1.010         0.036            1.008                    0.038\n",
       "48     49  1.011         0.033            1.009                    0.032\n",
       "49     50  1.010         0.035            1.010                    0.032"
      ]
     },
     "execution_count": 30,
     "metadata": {
      "tags": []
     },
     "output_type": "execute_result"
    }
   ],
   "source": [
    "results_output"
   ]
  },
  {
   "cell_type": "code",
   "execution_count": 0,
   "metadata": {
    "colab": {},
    "colab_type": "code",
    "id": "Pb2XdJ1iMCzU"
   },
   "outputs": [],
   "source": [
    "results_output.to_csv(path + \"SDA_VGG16_NFrozen.csv\")"
   ]
  },
  {
   "cell_type": "markdown",
   "metadata": {
    "colab_type": "text",
    "id": "f7WR_T_h-_Yw"
   },
   "source": []
  },
  {
   "cell_type": "code",
   "execution_count": 0,
   "metadata": {
    "colab": {},
    "colab_type": "code",
    "id": "ujvIyFe2MXc6"
   },
   "outputs": [],
   "source": []
  }
 ],
 "metadata": {
  "accelerator": "GPU",
  "colab": {
   "collapsed_sections": [],
   "name": "SDA_VGG16_NFrozen_Code.ipynb",
   "provenance": []
  },
  "kernelspec": {
   "display_name": "Python 3",
   "language": "python",
   "name": "python3"
  },
  "language_info": {
   "codemirror_mode": {
    "name": "ipython",
    "version": 3
   },
   "file_extension": ".py",
   "mimetype": "text/x-python",
   "name": "python",
   "nbconvert_exporter": "python",
   "pygments_lexer": "ipython3",
   "version": "3.7.3"
  }
 },
 "nbformat": 4,
 "nbformat_minor": 1
}
