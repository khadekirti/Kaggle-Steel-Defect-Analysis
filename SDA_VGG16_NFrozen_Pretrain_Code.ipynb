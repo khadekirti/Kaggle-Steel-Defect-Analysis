{
 "cells": [
  {
   "cell_type": "code",
   "execution_count": 0,
   "metadata": {
    "colab": {},
    "colab_type": "code",
    "id": "QnWucCr3xI1L"
   },
   "outputs": [],
   "source": [
    "import numpy as np\n",
    "import matplotlib.pyplot as plt\n",
    "import pandas as pd\n",
    "import os\n",
    "from tqdm import tqdm_notebook\n",
    "import cv2\n",
    "\n",
    "import keras\n",
    "from keras.layers.convolutional import Conv2DTranspose\n",
    "from keras.layers.merge import concatenate\n",
    "from keras.layers import UpSampling2D, Conv2D, Activation, Input, Dropout, MaxPooling2D\n",
    "from keras import Model\n",
    "from keras import backend as K\n",
    "from keras.layers.core import Lambda\n",
    "from collections import defaultdict\n",
    "from sklearn.model_selection import train_test_split\n",
    "import pandas as pd\n",
    "import random\n",
    "\n",
    "import tensorflow as tf\n"
   ]
  },
  {
   "cell_type": "code",
   "execution_count": 0,
   "metadata": {
    "colab": {},
    "colab_type": "code",
    "id": "dYBcuA049qIK"
   },
   "outputs": [],
   "source": [
    "from tensorflow.keras.losses import binary_crossentropy\n",
    "from sklearn.model_selection import train_test_split"
   ]
  },
  {
   "cell_type": "markdown",
   "metadata": {
    "colab_type": "text",
    "id": "KAYxLwD7jrXS"
   },
   "source": [
    "# Get Data"
   ]
  },
  {
   "cell_type": "code",
   "execution_count": 22,
   "metadata": {
    "colab": {
     "base_uri": "https://localhost:8080/",
     "height": 34
    },
    "colab_type": "code",
    "id": "EIdmIg3axOXi",
    "outputId": "d6d0d811-f7a7-4e60-ceb4-2da87dd374af"
   },
   "outputs": [
    {
     "name": "stdout",
     "output_type": "stream",
     "text": [
      "Drive already mounted at /content/drive/; to attempt to forcibly remount, call drive.mount(\"/content/drive/\", force_remount=True).\n"
     ]
    }
   ],
   "source": [
    "# Load the Drive helper and mount\n",
    "from google.colab import drive\n",
    "\n",
    "# This will prompt for authorization.\n",
    "drive.mount('/content/drive/')"
   ]
  },
  {
   "cell_type": "code",
   "execution_count": 0,
   "metadata": {
    "colab": {},
    "colab_type": "code",
    "id": "2-ps2d69xOdE"
   },
   "outputs": [],
   "source": [
    "path = '/content/drive/My Drive/project/data_main/'"
   ]
  },
  {
   "cell_type": "code",
   "execution_count": 0,
   "metadata": {
    "colab": {},
    "colab_type": "code",
    "id": "cdCDkv7If6Oj"
   },
   "outputs": [],
   "source": [
    "train_img = path + \"train_images\""
   ]
  },
  {
   "cell_type": "code",
   "execution_count": 25,
   "metadata": {
    "colab": {
     "base_uri": "https://localhost:8080/",
     "height": 34
    },
    "colab_type": "code",
    "id": "a7ZTUqjxxMn5",
    "outputId": "0c29da8f-4123-48f2-9496-3f53b71a4199"
   },
   "outputs": [
    {
     "name": "stdout",
     "output_type": "stream",
     "text": [
      "Length of train data 50272\n"
     ]
    }
   ],
   "source": [
    "train_data  = pd.read_csv(path + '/train.csv')\n",
    "print(\"Length of train data\", len(train_data))"
   ]
  },
  {
   "cell_type": "code",
   "execution_count": 0,
   "metadata": {
    "colab": {},
    "colab_type": "code",
    "id": "E5rWaNN2eJTc"
   },
   "outputs": [],
   "source": [
    "# Pivot the data\n",
    "df = pd.read_csv(path + '/train.csv')\n",
    "df['ImageId'], df['ClassId'] = zip(*df['ImageId_ClassId'].str.split('_'))\n",
    "df['ClassId'] = df['ClassId'].astype(int)\n",
    "df = df.pivot(index='ImageId',columns='ClassId',values='EncodedPixels')\n",
    "df['defects'] = df.count(axis=1)\n",
    "# Divide the data \n",
    "train_df, val_df = train_test_split(df, test_size=0.2, stratify=df[\"defects\"], random_state=69) "
   ]
  },
  {
   "cell_type": "code",
   "execution_count": 0,
   "metadata": {
    "colab": {},
    "colab_type": "code",
    "id": "lA_bPmgGlJOB"
   },
   "outputs": [],
   "source": [
    "train_df = train_df.reset_index()\n",
    "train_df = train_df.reset_index()\n",
    "\n",
    "val_df = val_df.reset_index()\n",
    "val_df = val_df.reset_index()\n",
    " "
   ]
  },
  {
   "cell_type": "code",
   "execution_count": 28,
   "metadata": {
    "colab": {
     "base_uri": "https://localhost:8080/",
     "height": 51
    },
    "colab_type": "code",
    "id": "GILMpUtXxjro",
    "outputId": "92e07d29-78e9-4a77-8d52-c3959abb473d"
   },
   "outputs": [
    {
     "name": "stdout",
     "output_type": "stream",
     "text": [
      "Lenght of training data  10054\n",
      "Lenght of validation data  2514\n"
     ]
    }
   ],
   "source": [
    "# For class imbalance, we need to use the data witout nulls.\n",
    "df_no_null = train_data[train_data['EncodedPixels'].notnull()].reset_index(drop=True)\n",
    " \n",
    "print(\"Lenght of training data \" , len(train_df))\n",
    "print(\"Lenght of validation data \" , len(val_df))"
   ]
  },
  {
   "cell_type": "markdown",
   "metadata": {
    "colab_type": "text",
    "id": "nJSq6RbkkiOZ"
   },
   "source": [
    "\n",
    "# Pre-process data"
   ]
  },
  {
   "cell_type": "code",
   "execution_count": 0,
   "metadata": {
    "colab": {},
    "colab_type": "code",
    "id": "Dkc70VFPeBYg"
   },
   "outputs": [],
   "source": [
    "def mask2rle(img):\n",
    "    '''\n",
    "    For an ouput numpy array\n",
    "    1  == Mask, \n",
    "    0  == background\n",
    "    Returns run length as string formated\n",
    "    '''\n",
    "    pixels= img.T.flatten()\n",
    "    pixels = np.concatenate([[0], pixels, [0]])\n",
    "    runs = np.where(pixels[1:] != pixels[:-1])[0] + 1\n",
    "    runs[1::2] -= runs[::2]\n",
    "    return ' '.join(str(x) for x in runs)"
   ]
  },
  {
   "cell_type": "code",
   "execution_count": 0,
   "metadata": {
    "colab": {},
    "colab_type": "code",
    "id": "GSfFVYAGeDBa"
   },
   "outputs": [],
   "source": [
    "\n",
    "def make_mask(row_id, df):\n",
    "    '''\n",
    "    Given a row index, \n",
    "    return a image id and mask of the image in the format of (256, 1600, 4)\n",
    "    from the dataframe `df`\n",
    "    '''\n",
    "\n",
    "    masks = np.zeros((256, 1600, 4), dtype=np.float32)     \n",
    "    labels = df.iloc[row_id][2:-1]\n",
    "    for idx, label in enumerate(labels.values):\n",
    "        if label is not np.nan:\n",
    "            label = label.split(\" \")\n",
    "            positions = map(int, label[0::2])\n",
    "            length = map(int, label[1::2])\n",
    "            mask = np.zeros(256 * 1600, dtype=np.uint8)\n",
    "            for pos, le in zip(positions, length):\n",
    "                mask[pos:(pos + le)] = 1\n",
    "            masks[:, :, idx] = mask.reshape(256, 1600, order='F')\n",
    "    return masks"
   ]
  },
  {
   "cell_type": "code",
   "execution_count": 0,
   "metadata": {
    "colab": {},
    "colab_type": "code",
    "id": "yxm1sIylu5YJ"
   },
   "outputs": [],
   "source": [
    "class DataGenerator(tf.keras.utils.Sequence):\n",
    "    def __init__(self, df, image_dir, batch_size=16,\n",
    "                 img_h=256, img_w=256, shuffle=True):\n",
    "        \n",
    "        self.df = df\n",
    "        self.image_dir = image_dir\n",
    "        self.batch_size = batch_size\n",
    "        self.img_h = img_h\n",
    "        self.img_w = img_w\n",
    "        self.shuffle = shuffle\n",
    "        self.on_epoch_end()\n",
    "    \n",
    "    def __len__(self):\n",
    "        'denotes the number of batches per epoch'\n",
    "        return int(np.floor(len(self.df)) / self.batch_size)\n",
    "    \n",
    "    def __getitem__(self, index):\n",
    "        'generate one batch of data'\n",
    "        indexes = self.indexes[index*self.batch_size:(index+1)*self.batch_size]\n",
    "        # get list of IDs\n",
    "        list_ids_temp = indexes\n",
    "        # generate data\n",
    "        X, y = self.__data_generation(list_ids_temp)\n",
    "        # return data \n",
    "        return X, y\n",
    "    \n",
    "    def on_epoch_end(self):\n",
    "        'update ended after each epoch'\n",
    "        self.indexes = np.arange(len(self.df))\n",
    "        if self.shuffle:\n",
    "            np.random.shuffle(self.indexes)\n",
    "            \n",
    "    def __data_generation(self, list_ids_temp):\n",
    "      img_size = 256\n",
    "      x_batch = []\n",
    "      y_batch = []\n",
    "      for id in list_ids_temp: \n",
    "          # Get the image\n",
    "          image_name = self.df['ImageId'].iloc[id]\n",
    "          image = cv2.imread(self.image_dir  + 'train_images/'+image_name)\n",
    "          image = cv2.cvtColor(image, cv2.COLOR_BGR2RGB) \n",
    "          # Get the mask \n",
    "          mask = make_mask(id, self.df)\n",
    "          # Resize \n",
    "          image = cv2.resize(image, (img_size, img_size))\n",
    "          mask = cv2.resize(mask, (img_size, img_size))\n",
    "          # Add \n",
    "          x_batch += [image]\n",
    "          y_batch += [mask]\n",
    "      # Change to numpy                   \n",
    "      x_batch = np.array(x_batch)\n",
    "      y_batch = np.array(y_batch)\n",
    "      return x_batch, y_batch"
   ]
  },
  {
   "cell_type": "code",
   "execution_count": 0,
   "metadata": {
    "colab": {},
    "colab_type": "code",
    "id": "RxRV-EBJS5_x"
   },
   "outputs": [],
   "source": [
    "training_generator = DataGenerator(train_df, path)"
   ]
  },
  {
   "cell_type": "code",
   "execution_count": 0,
   "metadata": {
    "colab": {},
    "colab_type": "code",
    "id": "HSJdPbzrVMuR"
   },
   "outputs": [],
   "source": [
    "validation_generator = DataGenerator(val_df, path) "
   ]
  },
  {
   "cell_type": "code",
   "execution_count": 0,
   "metadata": {
    "colab": {},
    "colab_type": "code",
    "id": "HatOeyxnuCQP"
   },
   "outputs": [],
   "source": [
    "def class_imbalance(df): \n",
    "  '''\n",
    "  To treat for class imbalance, we will be using this function\n",
    "  '''\n",
    "  # Get the data, arrange it in classes \n",
    "  df['ImageId'], df['ClassId'] = zip(*df['ImageId_ClassId'].str.split('_'))\n",
    "  df['ClassId'] = df['ClassId'].astype(int)\n",
    "  df = df.pivot(index='ImageId',columns='ClassId',values='EncodedPixels')\n",
    "  df['defects'] = df.count(axis=1) \n",
    "  # Get the number of mask in each class \n",
    "  list_all = list(df.count())[: -1]\n",
    "  sum_list_all = sum(list_all) \n",
    "  return [list_all[i]/sum_list_all * 4  for i in range(len(list_all))] "
   ]
  },
  {
   "cell_type": "markdown",
   "metadata": {
    "colab_type": "text",
    "id": "i5LImQoevais"
   },
   "source": [
    "# Model"
   ]
  },
  {
   "cell_type": "code",
   "execution_count": 0,
   "metadata": {
    "colab": {},
    "colab_type": "code",
    "id": "TT5Z0H_by_1-"
   },
   "outputs": [],
   "source": [
    "def dsc(y_true, y_pred, smooth=1):\n",
    "    '''\n",
    "    Get the dice coefficiant of two oututs \n",
    "    '''\n",
    "    y_true_f = K.flatten(y_true)\n",
    "    y_pred_f = K.flatten(y_pred)\n",
    "    intersection = K.sum(y_true_f * y_pred_f)\n",
    "    return (2. * intersection + smooth) / (K.sum(y_true_f) + K.sum(y_pred_f) + smooth) \n",
    "  \n",
    "def dice_loss(y_true, y_pred):\n",
    "    '''\n",
    "    Get the loss \n",
    "    '''\n",
    "    loss = 1 - dsc(y_true, y_pred)\n",
    "    return loss\n",
    "\n",
    "def bce_dice_loss(y_true, y_pred):\n",
    "    '''\n",
    "    Get the loss\n",
    "    '''\n",
    "    loss = binary_crossentropy(y_true, y_pred) + dice_loss(y_true, y_pred)\n",
    "    return loss  "
   ]
  },
  {
   "cell_type": "code",
   "execution_count": 36,
   "metadata": {
    "colab": {
     "base_uri": "https://localhost:8080/",
     "height": 71
    },
    "colab_type": "code",
    "id": "h-fZGK2ayO5o",
    "outputId": "38a6426e-66de-4f36-98d7-c560d4989cb1"
   },
   "outputs": [
    {
     "name": "stderr",
     "output_type": "stream",
     "text": [
      "/usr/local/lib/python3.6/dist-packages/ipykernel_launcher.py:9: UserWarning: Update your `Model` call to the Keras 2 API: `Model(inputs=Tensor(\"in..., outputs=Tensor(\"ac...)`\n",
      "  if __name__ == '__main__':\n"
     ]
    }
   ],
   "source": [
    "from keras.applications.vgg16 import VGG16\n",
    "base_model = VGG16(weights=None, input_shape=(256,256,3), include_top=False)\n",
    "base_model.load_weights(path + 'vgg16_weights_tf_dim_ordering_tf_kernels_notop.h5') \n",
    "base_model.trainable = True\n",
    "base_out = base_model.output\n",
    "up = UpSampling2D(32, interpolation='bilinear')(base_out)\n",
    "conv = Conv2D(4, (1, 1))(up)\n",
    "conv = Activation('sigmoid')(conv)\n",
    "model = Model(input=base_model.input, output=conv)\n",
    "model.compile(optimizer='adam', loss=bce_dice_loss, metrics = [dsc])\n",
    " "
   ]
  },
  {
   "cell_type": "markdown",
   "metadata": {
    "colab_type": "text",
    "id": "JrYfJZsbvsqP"
   },
   "source": [
    "# Test & Train"
   ]
  },
  {
   "cell_type": "code",
   "execution_count": 0,
   "metadata": {
    "colab": {},
    "colab_type": "code",
    "id": "Gui3Ch8zLwRS"
   },
   "outputs": [],
   "source": [
    "from keras.callbacks import EarlyStopping, ModelCheckpoint\n",
    "checkpoint = ModelCheckpoint(path + 'model_best_weights_vgg_nfrozen_pretrain2.h5', monitor='loss', verbose=1, save_best_only=False, mode='min', period=1) "
   ]
  },
  {
   "cell_type": "code",
   "execution_count": 38,
   "metadata": {
    "colab": {
     "base_uri": "https://localhost:8080/",
     "height": 1000
    },
    "colab_type": "code",
    "id": "knAuRzwDw9hl",
    "outputId": "1cbd7c14-a7ed-4ba6-c95e-c8af56536ab0"
   },
   "outputs": [
    {
     "name": "stdout",
     "output_type": "stream",
     "text": [
      "Epoch 1/50\n",
      "100/100 [==============================] - 1697s 17s/step - loss: 1.2137 - dsc: 0.0235 - val_loss: 1.0341 - val_dsc: 0.0439\n",
      "\n",
      "Epoch 00001: saving model to /content/drive/My Drive/project/data_main/model_best_weights_vgg_nfrozen_pretrain2.h5\n",
      "Epoch 2/50\n",
      "100/100 [==============================] - 641s 6s/step - loss: 1.0008 - dsc: 0.0536 - val_loss: 0.9865 - val_dsc: 0.0511\n",
      "\n",
      "Epoch 00002: saving model to /content/drive/My Drive/project/data_main/model_best_weights_vgg_nfrozen_pretrain2.h5\n",
      "Epoch 3/50\n",
      "100/100 [==============================] - 650s 6s/step - loss: 0.9280 - dsc: 0.1333 - val_loss: 0.8978 - val_dsc: 0.1649\n",
      "\n",
      "Epoch 00003: saving model to /content/drive/My Drive/project/data_main/model_best_weights_vgg_nfrozen_pretrain2.h5\n",
      "Epoch 4/50\n",
      "100/100 [==============================] - 669s 7s/step - loss: 0.9093 - dsc: 0.1537 - val_loss: 0.8919 - val_dsc: 0.1554\n",
      "\n",
      "Epoch 00004: saving model to /content/drive/My Drive/project/data_main/model_best_weights_vgg_nfrozen_pretrain2.h5\n",
      "Epoch 5/50\n",
      "100/100 [==============================] - 636s 6s/step - loss: 0.8790 - dsc: 0.1726 - val_loss: 0.8619 - val_dsc: 0.1887\n",
      "\n",
      "Epoch 00005: saving model to /content/drive/My Drive/project/data_main/model_best_weights_vgg_nfrozen_pretrain2.h5\n",
      "Epoch 6/50\n",
      "100/100 [==============================] - 632s 6s/step - loss: 0.9055 - dsc: 0.1461 - val_loss: 0.9607 - val_dsc: 0.1407\n",
      "\n",
      "Epoch 00006: saving model to /content/drive/My Drive/project/data_main/model_best_weights_vgg_nfrozen_pretrain2.h5\n",
      "Epoch 7/50\n",
      "100/100 [==============================] - 246s 2s/step - loss: 0.8690 - dsc: 0.1797 - val_loss: 0.8569 - val_dsc: 0.1920\n",
      "\n",
      "Epoch 00007: saving model to /content/drive/My Drive/project/data_main/model_best_weights_vgg_nfrozen_pretrain2.h5\n",
      "Epoch 8/50\n",
      "100/100 [==============================] - 153s 2s/step - loss: 0.8831 - dsc: 0.1671 - val_loss: 0.8430 - val_dsc: 0.2032\n",
      "\n",
      "Epoch 00008: saving model to /content/drive/My Drive/project/data_main/model_best_weights_vgg_nfrozen_pretrain2.h5\n",
      "Epoch 9/50\n",
      "100/100 [==============================] - 153s 2s/step - loss: 0.8765 - dsc: 0.1695 - val_loss: 0.8510 - val_dsc: 0.1981\n",
      "\n",
      "Epoch 00009: saving model to /content/drive/My Drive/project/data_main/model_best_weights_vgg_nfrozen_pretrain2.h5\n",
      "Epoch 10/50\n",
      "100/100 [==============================] - 153s 2s/step - loss: 0.8238 - dsc: 0.2306 - val_loss: 0.8345 - val_dsc: 0.2142\n",
      "\n",
      "Epoch 00010: saving model to /content/drive/My Drive/project/data_main/model_best_weights_vgg_nfrozen_pretrain2.h5\n",
      "Epoch 11/50\n",
      "100/100 [==============================] - 153s 2s/step - loss: 0.8312 - dsc: 0.2216 - val_loss: 0.8681 - val_dsc: 0.1889\n",
      "\n",
      "Epoch 00011: saving model to /content/drive/My Drive/project/data_main/model_best_weights_vgg_nfrozen_pretrain2.h5\n",
      "Epoch 12/50\n",
      "100/100 [==============================] - 153s 2s/step - loss: 0.8353 - dsc: 0.2158 - val_loss: 0.8618 - val_dsc: 0.1910\n",
      "\n",
      "Epoch 00012: saving model to /content/drive/My Drive/project/data_main/model_best_weights_vgg_nfrozen_pretrain2.h5\n",
      "Epoch 13/50\n",
      "100/100 [==============================] - 152s 2s/step - loss: 0.8750 - dsc: 0.1729 - val_loss: 0.8504 - val_dsc: 0.1896\n",
      "\n",
      "Epoch 00013: saving model to /content/drive/My Drive/project/data_main/model_best_weights_vgg_nfrozen_pretrain2.h5\n",
      "Epoch 14/50\n",
      "100/100 [==============================] - 152s 2s/step - loss: 0.8354 - dsc: 0.2162 - val_loss: 0.8613 - val_dsc: 0.1826\n",
      "\n",
      "Epoch 00014: saving model to /content/drive/My Drive/project/data_main/model_best_weights_vgg_nfrozen_pretrain2.h5\n",
      "Epoch 15/50\n",
      "100/100 [==============================] - 152s 2s/step - loss: 0.8561 - dsc: 0.1964 - val_loss: 0.8351 - val_dsc: 0.2122\n",
      "\n",
      "Epoch 00015: saving model to /content/drive/My Drive/project/data_main/model_best_weights_vgg_nfrozen_pretrain2.h5\n",
      "Epoch 16/50\n",
      "100/100 [==============================] - 153s 2s/step - loss: 0.8466 - dsc: 0.2031 - val_loss: 0.8694 - val_dsc: 0.2021\n",
      "\n",
      "Epoch 00016: saving model to /content/drive/My Drive/project/data_main/model_best_weights_vgg_nfrozen_pretrain2.h5\n",
      "Epoch 17/50\n",
      "100/100 [==============================] - 153s 2s/step - loss: 0.8525 - dsc: 0.1966 - val_loss: 0.8581 - val_dsc: 0.1909\n",
      "\n",
      "Epoch 00017: saving model to /content/drive/My Drive/project/data_main/model_best_weights_vgg_nfrozen_pretrain2.h5\n",
      "Epoch 18/50\n",
      "100/100 [==============================] - 152s 2s/step - loss: 0.8306 - dsc: 0.2201 - val_loss: 0.8221 - val_dsc: 0.2342\n",
      "\n",
      "Epoch 00018: saving model to /content/drive/My Drive/project/data_main/model_best_weights_vgg_nfrozen_pretrain2.h5\n",
      "Epoch 19/50\n",
      "100/100 [==============================] - 153s 2s/step - loss: 0.8229 - dsc: 0.2257 - val_loss: 0.8378 - val_dsc: 0.2145\n",
      "\n",
      "Epoch 00019: saving model to /content/drive/My Drive/project/data_main/model_best_weights_vgg_nfrozen_pretrain2.h5\n",
      "Epoch 20/50\n",
      "100/100 [==============================] - 152s 2s/step - loss: 0.8432 - dsc: 0.2090 - val_loss: 0.8385 - val_dsc: 0.2150\n",
      "\n",
      "Epoch 00020: saving model to /content/drive/My Drive/project/data_main/model_best_weights_vgg_nfrozen_pretrain2.h5\n",
      "Epoch 21/50\n",
      "100/100 [==============================] - 152s 2s/step - loss: 0.8366 - dsc: 0.2115 - val_loss: 0.8373 - val_dsc: 0.2091\n",
      "\n",
      "Epoch 00021: saving model to /content/drive/My Drive/project/data_main/model_best_weights_vgg_nfrozen_pretrain2.h5\n",
      "Epoch 22/50\n",
      "100/100 [==============================] - 152s 2s/step - loss: 0.8107 - dsc: 0.2408 - val_loss: 0.8451 - val_dsc: 0.2092\n",
      "\n",
      "Epoch 00022: saving model to /content/drive/My Drive/project/data_main/model_best_weights_vgg_nfrozen_pretrain2.h5\n",
      "Epoch 23/50\n",
      "100/100 [==============================] - 151s 2s/step - loss: 0.8363 - dsc: 0.2145 - val_loss: 0.8170 - val_dsc: 0.2309\n",
      "\n",
      "Epoch 00023: saving model to /content/drive/My Drive/project/data_main/model_best_weights_vgg_nfrozen_pretrain2.h5\n",
      "Epoch 24/50\n",
      "100/100 [==============================] - 153s 2s/step - loss: 0.8507 - dsc: 0.1972 - val_loss: 0.8308 - val_dsc: 0.2146\n",
      "\n",
      "Epoch 00024: saving model to /content/drive/My Drive/project/data_main/model_best_weights_vgg_nfrozen_pretrain2.h5\n",
      "Epoch 25/50\n",
      "100/100 [==============================] - 153s 2s/step - loss: 0.8282 - dsc: 0.2194 - val_loss: 0.8226 - val_dsc: 0.2246\n",
      "\n",
      "Epoch 00025: saving model to /content/drive/My Drive/project/data_main/model_best_weights_vgg_nfrozen_pretrain2.h5\n",
      "Epoch 26/50\n",
      "100/100 [==============================] - 152s 2s/step - loss: 0.8173 - dsc: 0.2383 - val_loss: 0.8364 - val_dsc: 0.2089\n",
      "\n",
      "Epoch 00026: saving model to /content/drive/My Drive/project/data_main/model_best_weights_vgg_nfrozen_pretrain2.h5\n",
      "Epoch 27/50\n",
      "100/100 [==============================] - 153s 2s/step - loss: 0.8419 - dsc: 0.2064 - val_loss: 0.8745 - val_dsc: 0.1879\n",
      "\n",
      "Epoch 00027: saving model to /content/drive/My Drive/project/data_main/model_best_weights_vgg_nfrozen_pretrain2.h5\n",
      "Epoch 28/50\n",
      "100/100 [==============================] - 153s 2s/step - loss: 0.8524 - dsc: 0.1978 - val_loss: 0.8386 - val_dsc: 0.2132\n",
      "\n",
      "Epoch 00028: saving model to /content/drive/My Drive/project/data_main/model_best_weights_vgg_nfrozen_pretrain2.h5\n",
      "Epoch 29/50\n",
      "100/100 [==============================] - 153s 2s/step - loss: 0.8320 - dsc: 0.2267 - val_loss: 0.8312 - val_dsc: 0.2166\n",
      "\n",
      "Epoch 00029: saving model to /content/drive/My Drive/project/data_main/model_best_weights_vgg_nfrozen_pretrain2.h5\n",
      "Epoch 30/50\n",
      "100/100 [==============================] - 154s 2s/step - loss: 0.8276 - dsc: 0.2244 - val_loss: 0.8167 - val_dsc: 0.2291\n",
      "\n",
      "Epoch 00030: saving model to /content/drive/My Drive/project/data_main/model_best_weights_vgg_nfrozen_pretrain2.h5\n",
      "Epoch 31/50\n",
      "100/100 [==============================] - 151s 2s/step - loss: 0.8395 - dsc: 0.2091 - val_loss: 0.8171 - val_dsc: 0.2304\n",
      "\n",
      "Epoch 00031: saving model to /content/drive/My Drive/project/data_main/model_best_weights_vgg_nfrozen_pretrain2.h5\n",
      "Epoch 32/50\n",
      "100/100 [==============================] - 152s 2s/step - loss: 0.8116 - dsc: 0.2355 - val_loss: 0.8092 - val_dsc: 0.2388\n",
      "\n",
      "Epoch 00032: saving model to /content/drive/My Drive/project/data_main/model_best_weights_vgg_nfrozen_pretrain2.h5\n",
      "Epoch 33/50\n",
      "100/100 [==============================] - 152s 2s/step - loss: 0.7952 - dsc: 0.2581 - val_loss: 0.8107 - val_dsc: 0.2330\n",
      "\n",
      "Epoch 00033: saving model to /content/drive/My Drive/project/data_main/model_best_weights_vgg_nfrozen_pretrain2.h5\n",
      "Epoch 34/50\n",
      "100/100 [==============================] - 153s 2s/step - loss: 0.8107 - dsc: 0.2362 - val_loss: 0.8035 - val_dsc: 0.2452\n",
      "\n",
      "Epoch 00034: saving model to /content/drive/My Drive/project/data_main/model_best_weights_vgg_nfrozen_pretrain2.h5\n",
      "Epoch 35/50\n",
      "100/100 [==============================] - 151s 2s/step - loss: 0.8448 - dsc: 0.2045 - val_loss: 0.8091 - val_dsc: 0.2362\n",
      "\n",
      "Epoch 00035: saving model to /content/drive/My Drive/project/data_main/model_best_weights_vgg_nfrozen_pretrain2.h5\n",
      "Epoch 36/50\n",
      "100/100 [==============================] - 152s 2s/step - loss: 0.7821 - dsc: 0.2674 - val_loss: 0.8237 - val_dsc: 0.2358\n",
      "\n",
      "Epoch 00036: saving model to /content/drive/My Drive/project/data_main/model_best_weights_vgg_nfrozen_pretrain2.h5\n",
      "Epoch 37/50\n",
      "100/100 [==============================] - 151s 2s/step - loss: 0.8246 - dsc: 0.2438 - val_loss: 0.8703 - val_dsc: 0.1845\n",
      "\n",
      "Epoch 00037: saving model to /content/drive/My Drive/project/data_main/model_best_weights_vgg_nfrozen_pretrain2.h5\n",
      "Epoch 38/50\n",
      "100/100 [==============================] - 152s 2s/step - loss: 0.8736 - dsc: 0.1845 - val_loss: 0.8300 - val_dsc: 0.2206\n",
      "\n",
      "Epoch 00038: saving model to /content/drive/My Drive/project/data_main/model_best_weights_vgg_nfrozen_pretrain2.h5\n",
      "Epoch 39/50\n",
      "100/100 [==============================] - 151s 2s/step - loss: 0.8194 - dsc: 0.2369 - val_loss: 0.8672 - val_dsc: 0.1746\n",
      "\n",
      "Epoch 00039: saving model to /content/drive/My Drive/project/data_main/model_best_weights_vgg_nfrozen_pretrain2.h5\n",
      "Epoch 40/50\n",
      "100/100 [==============================] - 151s 2s/step - loss: 0.8190 - dsc: 0.2370 - val_loss: 0.8075 - val_dsc: 0.2443\n",
      "\n",
      "Epoch 00040: saving model to /content/drive/My Drive/project/data_main/model_best_weights_vgg_nfrozen_pretrain2.h5\n",
      "Epoch 41/50\n",
      "100/100 [==============================] - 151s 2s/step - loss: 0.7897 - dsc: 0.2611 - val_loss: 0.7917 - val_dsc: 0.2528\n",
      "\n",
      "Epoch 00041: saving model to /content/drive/My Drive/project/data_main/model_best_weights_vgg_nfrozen_pretrain2.h5\n",
      "Epoch 42/50\n",
      "100/100 [==============================] - 151s 2s/step - loss: 0.7973 - dsc: 0.2504 - val_loss: 0.7805 - val_dsc: 0.2675\n",
      "\n",
      "Epoch 00042: saving model to /content/drive/My Drive/project/data_main/model_best_weights_vgg_nfrozen_pretrain2.h5\n",
      "Epoch 43/50\n",
      "100/100 [==============================] - 152s 2s/step - loss: 0.8170 - dsc: 0.2343 - val_loss: 0.8077 - val_dsc: 0.2356\n",
      "\n",
      "Epoch 00043: saving model to /content/drive/My Drive/project/data_main/model_best_weights_vgg_nfrozen_pretrain2.h5\n",
      "Epoch 44/50\n",
      "100/100 [==============================] - 152s 2s/step - loss: 0.7973 - dsc: 0.2530 - val_loss: 0.7764 - val_dsc: 0.2656\n",
      "\n",
      "Epoch 00044: saving model to /content/drive/My Drive/project/data_main/model_best_weights_vgg_nfrozen_pretrain2.h5\n",
      "Epoch 45/50\n",
      "100/100 [==============================] - 151s 2s/step - loss: 0.7755 - dsc: 0.2749 - val_loss: 0.7470 - val_dsc: 0.2964\n",
      "\n",
      "Epoch 00045: saving model to /content/drive/My Drive/project/data_main/model_best_weights_vgg_nfrozen_pretrain2.h5\n",
      "Epoch 46/50\n",
      "100/100 [==============================] - 151s 2s/step - loss: 0.7605 - dsc: 0.2919 - val_loss: 0.8071 - val_dsc: 0.2469\n",
      "\n",
      "Epoch 00046: saving model to /content/drive/My Drive/project/data_main/model_best_weights_vgg_nfrozen_pretrain2.h5\n",
      "Epoch 47/50\n",
      "100/100 [==============================] - 151s 2s/step - loss: 0.7966 - dsc: 0.2544 - val_loss: 0.7530 - val_dsc: 0.2899\n",
      "\n",
      "Epoch 00047: saving model to /content/drive/My Drive/project/data_main/model_best_weights_vgg_nfrozen_pretrain2.h5\n",
      "Epoch 48/50\n",
      "100/100 [==============================] - 150s 2s/step - loss: 0.7942 - dsc: 0.2567 - val_loss: 0.7732 - val_dsc: 0.2857\n",
      "\n",
      "Epoch 00048: saving model to /content/drive/My Drive/project/data_main/model_best_weights_vgg_nfrozen_pretrain2.h5\n",
      "Epoch 49/50\n",
      "100/100 [==============================] - 151s 2s/step - loss: 0.7113 - dsc: 0.3348 - val_loss: 0.7666 - val_dsc: 0.2943\n",
      "\n",
      "Epoch 00049: saving model to /content/drive/My Drive/project/data_main/model_best_weights_vgg_nfrozen_pretrain2.h5\n",
      "Epoch 50/50\n",
      "100/100 [==============================] - 151s 2s/step - loss: 0.7606 - dsc: 0.2883 - val_loss: 0.8093 - val_dsc: 0.2430\n",
      "\n",
      "Epoch 00050: saving model to /content/drive/My Drive/project/data_main/model_best_weights_vgg_nfrozen_pretrain2.h5\n"
     ]
    }
   ],
   "source": [
    "batch_size = 16\n",
    "results = model.fit_generator(generator=training_generator, \n",
    "                              validation_data=validation_generator,\n",
    "                              class_weight=class_imbalance(df_no_null),  \n",
    "                              steps_per_epoch= 100,\n",
    "                              epochs=50, callbacks = [checkpoint],) "
   ]
  },
  {
   "cell_type": "markdown",
   "metadata": {
    "colab_type": "text",
    "id": "KgzbEqTiNwYw"
   },
   "source": [
    "# Output & Visulisation"
   ]
  },
  {
   "cell_type": "code",
   "execution_count": 0,
   "metadata": {
    "colab": {},
    "colab_type": "code",
    "id": "J0224cjCJHEl"
   },
   "outputs": [],
   "source": [
    "history = results\n"
   ]
  },
  {
   "cell_type": "code",
   "execution_count": 40,
   "metadata": {
    "colab": {
     "base_uri": "https://localhost:8080/",
     "height": 312
    },
    "colab_type": "code",
    "id": "16rNgXjSIN1k",
    "outputId": "4ec08c16-df3b-469b-f664-86c71383c8dc"
   },
   "outputs": [
    {
     "name": "stdout",
     "output_type": "stream",
     "text": [
      "dict_keys(['val_loss', 'val_dsc', 'loss', 'dsc'])\n"
     ]
    },
    {
     "data": {
      "image/png": "[encoded data removed]",
      "text/plain": [
       "<Figure size 432x288 with 1 Axes>"
      ]
     },
     "metadata": {
      "tags": []
     },
     "output_type": "display_data"
    }
   ],
   "source": [
    "import matplotlib.pyplot as plt\n",
    "\n",
    "# list all data in history\n",
    "print(history.history.keys())\n",
    "# summarize history for loss\n",
    "plt.plot(history.history['loss'])\n",
    "plt.plot(history.history['val_loss'])\n",
    "plt.title('Model Loss')\n",
    "plt.ylabel('loss')\n",
    "plt.xlabel('epoch')\n",
    "plt.legend(['train', 'test'], loc='upper left')\n",
    "plt.show()"
   ]
  },
  {
   "cell_type": "code",
   "execution_count": 41,
   "metadata": {
    "colab": {
     "base_uri": "https://localhost:8080/",
     "height": 312
    },
    "colab_type": "code",
    "id": "t4B0wvaNJ5vZ",
    "outputId": "59452f3d-08e9-4108-8bdc-21da0e957262"
   },
   "outputs": [
    {
     "name": "stdout",
     "output_type": "stream",
     "text": [
      "dict_keys(['val_loss', 'val_dsc', 'loss', 'dsc'])\n"
     ]
    },
    {
     "data": {
      "image/png": "[encoded data removed]",
      "text/plain": [
       "<Figure size 432x288 with 1 Axes>"
      ]
     },
     "metadata": {
      "tags": []
     },
     "output_type": "display_data"
    }
   ],
   "source": [
    "import matplotlib.pyplot as plt\n",
    "\n",
    "# list all data in history\n",
    "print(history.history.keys())\n",
    "# summarize history for loss\n",
    "plt.plot(history.history['dsc'])\n",
    "plt.plot(history.history['val_dsc'])\n",
    "plt.title('Model Dice Metrics')\n",
    "plt.ylabel('dsc')\n",
    "plt.xlabel('epoch')\n",
    "plt.legend(['train', 'test'], loc='upper left')\n",
    "plt.show()"
   ]
  },
  {
   "cell_type": "code",
   "execution_count": 0,
   "metadata": {
    "colab": {},
    "colab_type": "code",
    "id": "PgjwHKjPKwls"
   },
   "outputs": [],
   "source": [
    "results_output = pd.DataFrame()"
   ]
  },
  {
   "cell_type": "code",
   "execution_count": 0,
   "metadata": {
    "colab": {},
    "colab_type": "code",
    "id": "Rz38Iq5VIqyo"
   },
   "outputs": [],
   "source": [
    "results_output[\"Epoch\"] = list(range(1,51))\n",
    "results_output['Loss'] = history.history['loss']\n",
    "results_output['Dice Metrics'] = history.history['dsc'] \n",
    "results_output['Validation Loss'] = history.history['val_loss'] \n",
    "results_output['Validation Dice Metrics'] = history.history['val_dsc'] \n"
   ]
  },
  {
   "cell_type": "code",
   "execution_count": 0,
   "metadata": {
    "colab": {},
    "colab_type": "code",
    "id": "AgX_-KedKFbm"
   },
   "outputs": [],
   "source": [
    "results_output  = results_output.round(3) "
   ]
  },
  {
   "cell_type": "code",
   "execution_count": 45,
   "metadata": {
    "colab": {
     "base_uri": "https://localhost:8080/",
     "height": 1000
    },
    "colab_type": "code",
    "id": "pSkt16Q8K61h",
    "outputId": "bec6d701-d9b6-4f84-9abc-0bb3e9bfda48"
   },
   "outputs": [
    {
     "data": {
      "text/html": [
       "<div>\n",
       "<style scoped>\n",
       "    .dataframe tbody tr th:only-of-type {\n",
       "        vertical-align: middle;\n",
       "    }\n",
       "\n",
       "    .dataframe tbody tr th {\n",
       "        vertical-align: top;\n",
       "    }\n",
       "\n",
       "    .dataframe thead th {\n",
       "        text-align: right;\n",
       "    }\n",
       "</style>\n",
       "<table border=\"1\" class=\"dataframe\">\n",
       "  <thead>\n",
       "    <tr style=\"text-align: right;\">\n",
       "      <th></th>\n",
       "      <th>Epoch</th>\n",
       "      <th>Loss</th>\n",
       "      <th>Dice Metrics</th>\n",
       "      <th>Validation Loss</th>\n",
       "      <th>Validation Dice Metrics</th>\n",
       "    </tr>\n",
       "  </thead>\n",
       "  <tbody>\n",
       "    <tr>\n",
       "      <th>0</th>\n",
       "      <td>1</td>\n",
       "      <td>1.214</td>\n",
       "      <td>0.023</td>\n",
       "      <td>1.034</td>\n",
       "      <td>0.044</td>\n",
       "    </tr>\n",
       "    <tr>\n",
       "      <th>1</th>\n",
       "      <td>2</td>\n",
       "      <td>1.001</td>\n",
       "      <td>0.054</td>\n",
       "      <td>0.986</td>\n",
       "      <td>0.051</td>\n",
       "    </tr>\n",
       "    <tr>\n",
       "      <th>2</th>\n",
       "      <td>3</td>\n",
       "      <td>0.928</td>\n",
       "      <td>0.133</td>\n",
       "      <td>0.898</td>\n",
       "      <td>0.165</td>\n",
       "    </tr>\n",
       "    <tr>\n",
       "      <th>3</th>\n",
       "      <td>4</td>\n",
       "      <td>0.909</td>\n",
       "      <td>0.154</td>\n",
       "      <td>0.892</td>\n",
       "      <td>0.155</td>\n",
       "    </tr>\n",
       "    <tr>\n",
       "      <th>4</th>\n",
       "      <td>5</td>\n",
       "      <td>0.879</td>\n",
       "      <td>0.173</td>\n",
       "      <td>0.862</td>\n",
       "      <td>0.189</td>\n",
       "    </tr>\n",
       "    <tr>\n",
       "      <th>5</th>\n",
       "      <td>6</td>\n",
       "      <td>0.906</td>\n",
       "      <td>0.146</td>\n",
       "      <td>0.961</td>\n",
       "      <td>0.141</td>\n",
       "    </tr>\n",
       "    <tr>\n",
       "      <th>6</th>\n",
       "      <td>7</td>\n",
       "      <td>0.869</td>\n",
       "      <td>0.180</td>\n",
       "      <td>0.857</td>\n",
       "      <td>0.192</td>\n",
       "    </tr>\n",
       "    <tr>\n",
       "      <th>7</th>\n",
       "      <td>8</td>\n",
       "      <td>0.883</td>\n",
       "      <td>0.167</td>\n",
       "      <td>0.843</td>\n",
       "      <td>0.203</td>\n",
       "    </tr>\n",
       "    <tr>\n",
       "      <th>8</th>\n",
       "      <td>9</td>\n",
       "      <td>0.877</td>\n",
       "      <td>0.170</td>\n",
       "      <td>0.851</td>\n",
       "      <td>0.198</td>\n",
       "    </tr>\n",
       "    <tr>\n",
       "      <th>9</th>\n",
       "      <td>10</td>\n",
       "      <td>0.824</td>\n",
       "      <td>0.231</td>\n",
       "      <td>0.835</td>\n",
       "      <td>0.214</td>\n",
       "    </tr>\n",
       "    <tr>\n",
       "      <th>10</th>\n",
       "      <td>11</td>\n",
       "      <td>0.831</td>\n",
       "      <td>0.222</td>\n",
       "      <td>0.868</td>\n",
       "      <td>0.189</td>\n",
       "    </tr>\n",
       "    <tr>\n",
       "      <th>11</th>\n",
       "      <td>12</td>\n",
       "      <td>0.835</td>\n",
       "      <td>0.216</td>\n",
       "      <td>0.862</td>\n",
       "      <td>0.191</td>\n",
       "    </tr>\n",
       "    <tr>\n",
       "      <th>12</th>\n",
       "      <td>13</td>\n",
       "      <td>0.875</td>\n",
       "      <td>0.173</td>\n",
       "      <td>0.850</td>\n",
       "      <td>0.190</td>\n",
       "    </tr>\n",
       "    <tr>\n",
       "      <th>13</th>\n",
       "      <td>14</td>\n",
       "      <td>0.835</td>\n",
       "      <td>0.216</td>\n",
       "      <td>0.861</td>\n",
       "      <td>0.183</td>\n",
       "    </tr>\n",
       "    <tr>\n",
       "      <th>14</th>\n",
       "      <td>15</td>\n",
       "      <td>0.856</td>\n",
       "      <td>0.196</td>\n",
       "      <td>0.835</td>\n",
       "      <td>0.212</td>\n",
       "    </tr>\n",
       "    <tr>\n",
       "      <th>15</th>\n",
       "      <td>16</td>\n",
       "      <td>0.847</td>\n",
       "      <td>0.203</td>\n",
       "      <td>0.869</td>\n",
       "      <td>0.202</td>\n",
       "    </tr>\n",
       "    <tr>\n",
       "      <th>16</th>\n",
       "      <td>17</td>\n",
       "      <td>0.852</td>\n",
       "      <td>0.197</td>\n",
       "      <td>0.858</td>\n",
       "      <td>0.191</td>\n",
       "    </tr>\n",
       "    <tr>\n",
       "      <th>17</th>\n",
       "      <td>18</td>\n",
       "      <td>0.831</td>\n",
       "      <td>0.220</td>\n",
       "      <td>0.822</td>\n",
       "      <td>0.234</td>\n",
       "    </tr>\n",
       "    <tr>\n",
       "      <th>18</th>\n",
       "      <td>19</td>\n",
       "      <td>0.823</td>\n",
       "      <td>0.226</td>\n",
       "      <td>0.838</td>\n",
       "      <td>0.214</td>\n",
       "    </tr>\n",
       "    <tr>\n",
       "      <th>19</th>\n",
       "      <td>20</td>\n",
       "      <td>0.843</td>\n",
       "      <td>0.209</td>\n",
       "      <td>0.838</td>\n",
       "      <td>0.215</td>\n",
       "    </tr>\n",
       "    <tr>\n",
       "      <th>20</th>\n",
       "      <td>21</td>\n",
       "      <td>0.837</td>\n",
       "      <td>0.212</td>\n",
       "      <td>0.837</td>\n",
       "      <td>0.209</td>\n",
       "    </tr>\n",
       "    <tr>\n",
       "      <th>21</th>\n",
       "      <td>22</td>\n",
       "      <td>0.811</td>\n",
       "      <td>0.241</td>\n",
       "      <td>0.845</td>\n",
       "      <td>0.209</td>\n",
       "    </tr>\n",
       "    <tr>\n",
       "      <th>22</th>\n",
       "      <td>23</td>\n",
       "      <td>0.836</td>\n",
       "      <td>0.215</td>\n",
       "      <td>0.817</td>\n",
       "      <td>0.231</td>\n",
       "    </tr>\n",
       "    <tr>\n",
       "      <th>23</th>\n",
       "      <td>24</td>\n",
       "      <td>0.851</td>\n",
       "      <td>0.197</td>\n",
       "      <td>0.831</td>\n",
       "      <td>0.215</td>\n",
       "    </tr>\n",
       "    <tr>\n",
       "      <th>24</th>\n",
       "      <td>25</td>\n",
       "      <td>0.828</td>\n",
       "      <td>0.219</td>\n",
       "      <td>0.823</td>\n",
       "      <td>0.225</td>\n",
       "    </tr>\n",
       "    <tr>\n",
       "      <th>25</th>\n",
       "      <td>26</td>\n",
       "      <td>0.817</td>\n",
       "      <td>0.238</td>\n",
       "      <td>0.836</td>\n",
       "      <td>0.209</td>\n",
       "    </tr>\n",
       "    <tr>\n",
       "      <th>26</th>\n",
       "      <td>27</td>\n",
       "      <td>0.842</td>\n",
       "      <td>0.206</td>\n",
       "      <td>0.875</td>\n",
       "      <td>0.188</td>\n",
       "    </tr>\n",
       "    <tr>\n",
       "      <th>27</th>\n",
       "      <td>28</td>\n",
       "      <td>0.852</td>\n",
       "      <td>0.198</td>\n",
       "      <td>0.839</td>\n",
       "      <td>0.213</td>\n",
       "    </tr>\n",
       "    <tr>\n",
       "      <th>28</th>\n",
       "      <td>29</td>\n",
       "      <td>0.832</td>\n",
       "      <td>0.227</td>\n",
       "      <td>0.831</td>\n",
       "      <td>0.217</td>\n",
       "    </tr>\n",
       "    <tr>\n",
       "      <th>29</th>\n",
       "      <td>30</td>\n",
       "      <td>0.828</td>\n",
       "      <td>0.224</td>\n",
       "      <td>0.817</td>\n",
       "      <td>0.229</td>\n",
       "    </tr>\n",
       "    <tr>\n",
       "      <th>30</th>\n",
       "      <td>31</td>\n",
       "      <td>0.840</td>\n",
       "      <td>0.209</td>\n",
       "      <td>0.817</td>\n",
       "      <td>0.230</td>\n",
       "    </tr>\n",
       "    <tr>\n",
       "      <th>31</th>\n",
       "      <td>32</td>\n",
       "      <td>0.812</td>\n",
       "      <td>0.235</td>\n",
       "      <td>0.809</td>\n",
       "      <td>0.239</td>\n",
       "    </tr>\n",
       "    <tr>\n",
       "      <th>32</th>\n",
       "      <td>33</td>\n",
       "      <td>0.795</td>\n",
       "      <td>0.258</td>\n",
       "      <td>0.811</td>\n",
       "      <td>0.233</td>\n",
       "    </tr>\n",
       "    <tr>\n",
       "      <th>33</th>\n",
       "      <td>34</td>\n",
       "      <td>0.811</td>\n",
       "      <td>0.236</td>\n",
       "      <td>0.803</td>\n",
       "      <td>0.245</td>\n",
       "    </tr>\n",
       "    <tr>\n",
       "      <th>34</th>\n",
       "      <td>35</td>\n",
       "      <td>0.845</td>\n",
       "      <td>0.205</td>\n",
       "      <td>0.809</td>\n",
       "      <td>0.236</td>\n",
       "    </tr>\n",
       "    <tr>\n",
       "      <th>35</th>\n",
       "      <td>36</td>\n",
       "      <td>0.782</td>\n",
       "      <td>0.267</td>\n",
       "      <td>0.824</td>\n",
       "      <td>0.236</td>\n",
       "    </tr>\n",
       "    <tr>\n",
       "      <th>36</th>\n",
       "      <td>37</td>\n",
       "      <td>0.825</td>\n",
       "      <td>0.244</td>\n",
       "      <td>0.870</td>\n",
       "      <td>0.184</td>\n",
       "    </tr>\n",
       "    <tr>\n",
       "      <th>37</th>\n",
       "      <td>38</td>\n",
       "      <td>0.874</td>\n",
       "      <td>0.184</td>\n",
       "      <td>0.830</td>\n",
       "      <td>0.221</td>\n",
       "    </tr>\n",
       "    <tr>\n",
       "      <th>38</th>\n",
       "      <td>39</td>\n",
       "      <td>0.819</td>\n",
       "      <td>0.237</td>\n",
       "      <td>0.867</td>\n",
       "      <td>0.175</td>\n",
       "    </tr>\n",
       "    <tr>\n",
       "      <th>39</th>\n",
       "      <td>40</td>\n",
       "      <td>0.819</td>\n",
       "      <td>0.237</td>\n",
       "      <td>0.807</td>\n",
       "      <td>0.244</td>\n",
       "    </tr>\n",
       "    <tr>\n",
       "      <th>40</th>\n",
       "      <td>41</td>\n",
       "      <td>0.790</td>\n",
       "      <td>0.261</td>\n",
       "      <td>0.792</td>\n",
       "      <td>0.253</td>\n",
       "    </tr>\n",
       "    <tr>\n",
       "      <th>41</th>\n",
       "      <td>42</td>\n",
       "      <td>0.797</td>\n",
       "      <td>0.250</td>\n",
       "      <td>0.781</td>\n",
       "      <td>0.267</td>\n",
       "    </tr>\n",
       "    <tr>\n",
       "      <th>42</th>\n",
       "      <td>43</td>\n",
       "      <td>0.817</td>\n",
       "      <td>0.234</td>\n",
       "      <td>0.808</td>\n",
       "      <td>0.236</td>\n",
       "    </tr>\n",
       "    <tr>\n",
       "      <th>43</th>\n",
       "      <td>44</td>\n",
       "      <td>0.797</td>\n",
       "      <td>0.253</td>\n",
       "      <td>0.776</td>\n",
       "      <td>0.266</td>\n",
       "    </tr>\n",
       "    <tr>\n",
       "      <th>44</th>\n",
       "      <td>45</td>\n",
       "      <td>0.775</td>\n",
       "      <td>0.275</td>\n",
       "      <td>0.747</td>\n",
       "      <td>0.296</td>\n",
       "    </tr>\n",
       "    <tr>\n",
       "      <th>45</th>\n",
       "      <td>46</td>\n",
       "      <td>0.760</td>\n",
       "      <td>0.292</td>\n",
       "      <td>0.807</td>\n",
       "      <td>0.247</td>\n",
       "    </tr>\n",
       "    <tr>\n",
       "      <th>46</th>\n",
       "      <td>47</td>\n",
       "      <td>0.797</td>\n",
       "      <td>0.254</td>\n",
       "      <td>0.753</td>\n",
       "      <td>0.290</td>\n",
       "    </tr>\n",
       "    <tr>\n",
       "      <th>47</th>\n",
       "      <td>48</td>\n",
       "      <td>0.794</td>\n",
       "      <td>0.257</td>\n",
       "      <td>0.773</td>\n",
       "      <td>0.286</td>\n",
       "    </tr>\n",
       "    <tr>\n",
       "      <th>48</th>\n",
       "      <td>49</td>\n",
       "      <td>0.711</td>\n",
       "      <td>0.335</td>\n",
       "      <td>0.767</td>\n",
       "      <td>0.294</td>\n",
       "    </tr>\n",
       "    <tr>\n",
       "      <th>49</th>\n",
       "      <td>50</td>\n",
       "      <td>0.761</td>\n",
       "      <td>0.288</td>\n",
       "      <td>0.809</td>\n",
       "      <td>0.243</td>\n",
       "    </tr>\n",
       "  </tbody>\n",
       "</table>\n",
       "</div>"
      ],
      "text/plain": [
       "    Epoch   Loss  Dice Metrics  Validation Loss  Validation Dice Metrics\n",
       "0       1  1.214         0.023            1.034                    0.044\n",
       "1       2  1.001         0.054            0.986                    0.051\n",
       "2       3  0.928         0.133            0.898                    0.165\n",
       "3       4  0.909         0.154            0.892                    0.155\n",
       "4       5  0.879         0.173            0.862                    0.189\n",
       "5       6  0.906         0.146            0.961                    0.141\n",
       "6       7  0.869         0.180            0.857                    0.192\n",
       "7       8  0.883         0.167            0.843                    0.203\n",
       "8       9  0.877         0.170            0.851                    0.198\n",
       "9      10  0.824         0.231            0.835                    0.214\n",
       "10     11  0.831         0.222            0.868                    0.189\n",
       "11     12  0.835         0.216            0.862                    0.191\n",
       "12     13  0.875         0.173            0.850                    0.190\n",
       "13     14  0.835         0.216            0.861                    0.183\n",
       "14     15  0.856         0.196            0.835                    0.212\n",
       "15     16  0.847         0.203            0.869                    0.202\n",
       "16     17  0.852         0.197            0.858                    0.191\n",
       "17     18  0.831         0.220            0.822                    0.234\n",
       "18     19  0.823         0.226            0.838                    0.214\n",
       "19     20  0.843         0.209            0.838                    0.215\n",
       "20     21  0.837         0.212            0.837                    0.209\n",
       "21     22  0.811         0.241            0.845                    0.209\n",
       "22     23  0.836         0.215            0.817                    0.231\n",
       "23     24  0.851         0.197            0.831                    0.215\n",
       "24     25  0.828         0.219            0.823                    0.225\n",
       "25     26  0.817         0.238            0.836                    0.209\n",
       "26     27  0.842         0.206            0.875                    0.188\n",
       "27     28  0.852         0.198            0.839                    0.213\n",
       "28     29  0.832         0.227            0.831                    0.217\n",
       "29     30  0.828         0.224            0.817                    0.229\n",
       "30     31  0.840         0.209            0.817                    0.230\n",
       "31     32  0.812         0.235            0.809                    0.239\n",
       "32     33  0.795         0.258            0.811                    0.233\n",
       "33     34  0.811         0.236            0.803                    0.245\n",
       "34     35  0.845         0.205            0.809                    0.236\n",
       "35     36  0.782         0.267            0.824                    0.236\n",
       "36     37  0.825         0.244            0.870                    0.184\n",
       "37     38  0.874         0.184            0.830                    0.221\n",
       "38     39  0.819         0.237            0.867                    0.175\n",
       "39     40  0.819         0.237            0.807                    0.244\n",
       "40     41  0.790         0.261            0.792                    0.253\n",
       "41     42  0.797         0.250            0.781                    0.267\n",
       "42     43  0.817         0.234            0.808                    0.236\n",
       "43     44  0.797         0.253            0.776                    0.266\n",
       "44     45  0.775         0.275            0.747                    0.296\n",
       "45     46  0.760         0.292            0.807                    0.247\n",
       "46     47  0.797         0.254            0.753                    0.290\n",
       "47     48  0.794         0.257            0.773                    0.286\n",
       "48     49  0.711         0.335            0.767                    0.294\n",
       "49     50  0.761         0.288            0.809                    0.243"
      ]
     },
     "execution_count": 45,
     "metadata": {
      "tags": []
     },
     "output_type": "execute_result"
    }
   ],
   "source": [
    "results_output"
   ]
  },
  {
   "cell_type": "code",
   "execution_count": 0,
   "metadata": {
    "colab": {},
    "colab_type": "code",
    "id": "Pb2XdJ1iMCzU"
   },
   "outputs": [],
   "source": [
    "results_output.to_csv(path + \"SDA_VGG16_NFrozen_Pretrain.csv\")"
   ]
  },
  {
   "cell_type": "code",
   "execution_count": 0,
   "metadata": {
    "colab": {},
    "colab_type": "code",
    "id": "ujvIyFe2MXc6"
   },
   "outputs": [],
   "source": []
  }
 ],
 "metadata": {
  "accelerator": "GPU",
  "colab": {
   "collapsed_sections": [],
   "name": "SDA_VGG16_NFrozen_Pretrain_Code.ipynb",
   "provenance": []
  },
  "kernelspec": {
   "display_name": "Python 3",
   "language": "python",
   "name": "python3"
  },
  "language_info": {
   "codemirror_mode": {
    "name": "ipython",
    "version": 3
   },
   "file_extension": ".py",
   "mimetype": "text/x-python",
   "name": "python",
   "nbconvert_exporter": "python",
   "pygments_lexer": "ipython3",
   "version": "3.7.3"
  }
 },
 "nbformat": 4,
 "nbformat_minor": 1
}
